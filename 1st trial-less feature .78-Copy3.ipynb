{
 "cells": [
  {
   "cell_type": "code",
   "execution_count": 1,
   "metadata": {},
   "outputs": [
    {
     "name": "stderr",
     "output_type": "stream",
     "text": [
      "C:\\Users\\sharm_000\\Anaconda2\\envs\\py36\\lib\\site-packages\\sklearn\\cross_validation.py:44: DeprecationWarning: This module was deprecated in version 0.18 in favor of the model_selection module into which all the refactored classes and functions are moved. Also note that the interface of the new CV iterators are different from that of this module. This module will be removed in 0.20.\n",
      "  \"This module will be removed in 0.20.\", DeprecationWarning)\n"
     ]
    }
   ],
   "source": [
    "import pandas as pd\n",
    "import numpy as np\n",
    "import seaborn as sns\n",
    "import xgboost as xgb\n",
    "import matplotlib.pyplot as plt\n",
    "%matplotlib inline\n",
    "import warnings\n",
    "warnings.filterwarnings('ignore')\n",
    "from sklearn import ensemble,metrics,cross_validation,preprocessing,grid_search\n",
    "path='C:/Projects/Hackerearth_2/'\n",
    "from catboost import CatBoost, CatBoostClassifier\n",
    "import lightgbm as lgb"
   ]
  },
  {
   "cell_type": "code",
   "execution_count": 2,
   "metadata": {},
   "outputs": [
    {
     "name": "stdout",
     "output_type": "stream",
     "text": [
      "(28914, 14) (4825, 3)\n"
     ]
    },
    {
     "data": {
      "text/plain": [
       "(4825, 400)"
      ]
     },
     "execution_count": 2,
     "metadata": {},
     "output_type": "execute_result"
    }
   ],
   "source": [
    "data=pd.read_csv(path+'train.csv',dtype={'roadId':object})\n",
    "labels=pd.read_csv(path+'labels.csv',dtype={'roadId':object})\n",
    "test_data=pd.read_csv(path+'test.csv',dtype={'roadId':object})\n",
    "print (data.shape,labels.shape)\n",
    "len(np.unique(data['roadId'])),len(np.unique(test_data['roadId']))"
   ]
  },
  {
   "cell_type": "code",
   "execution_count": 3,
   "metadata": {},
   "outputs": [
    {
     "data": {
      "text/html": [
       "<div>\n",
       "<style>\n",
       "    .dataframe thead tr:only-child th {\n",
       "        text-align: right;\n",
       "    }\n",
       "\n",
       "    .dataframe thead th {\n",
       "        text-align: left;\n",
       "    }\n",
       "\n",
       "    .dataframe tbody tr th {\n",
       "        vertical-align: top;\n",
       "    }\n",
       "</style>\n",
       "<table border=\"1\" class=\"dataframe\">\n",
       "  <thead>\n",
       "    <tr style=\"text-align: right;\">\n",
       "      <th></th>\n",
       "      <th>roadId</th>\n",
       "      <th>totalLaneLines</th>\n",
       "      <th>laneLineId</th>\n",
       "      <th>laneLineCoordinates</th>\n",
       "      <th>totalLinesOnLeft</th>\n",
       "      <th>totalLaneLinesOnRight</th>\n",
       "      <th>distFromLaneLineOnLeft</th>\n",
       "      <th>distFromLaneLineOnRight</th>\n",
       "      <th>laneLineLength</th>\n",
       "      <th>roadLength</th>\n",
       "      <th>noOfIntersectingLaneLinesLeft</th>\n",
       "      <th>noOfIntersectingLaneLinesRight</th>\n",
       "      <th>isIntersectingWithRoadGeometry</th>\n",
       "      <th>roadCategory</th>\n",
       "    </tr>\n",
       "  </thead>\n",
       "  <tbody>\n",
       "    <tr>\n",
       "      <th>0</th>\n",
       "      <td>3177248677</td>\n",
       "      <td>3</td>\n",
       "      <td>X3177248677</td>\n",
       "      <td>11.117636626741222 49.43799310961545|11.11761...</td>\n",
       "      <td>2</td>\n",
       "      <td>0</td>\n",
       "      <td>3.863433276</td>\n",
       "      <td></td>\n",
       "      <td>4.396337</td>\n",
       "      <td>40.570710</td>\n",
       "      <td>0</td>\n",
       "      <td>0</td>\n",
       "      <td>false</td>\n",
       "      <td>2</td>\n",
       "    </tr>\n",
       "    <tr>\n",
       "      <th>1</th>\n",
       "      <td>3177248677</td>\n",
       "      <td>3</td>\n",
       "      <td>13177248677</td>\n",
       "      <td>11.11771009862968 49.43794191822495|11.117697...</td>\n",
       "      <td>0</td>\n",
       "      <td>2</td>\n",
       "      <td></td>\n",
       "      <td>3.740901458</td>\n",
       "      <td>37.316844</td>\n",
       "      <td>40.570710</td>\n",
       "      <td>0</td>\n",
       "      <td>0</td>\n",
       "      <td>false</td>\n",
       "      <td>2</td>\n",
       "    </tr>\n",
       "    <tr>\n",
       "      <th>2</th>\n",
       "      <td>3177248677</td>\n",
       "      <td>3</td>\n",
       "      <td>23177248677</td>\n",
       "      <td>11.117673197144772 49.43796782435575|11.11765...</td>\n",
       "      <td>1</td>\n",
       "      <td>1</td>\n",
       "      <td>3.740901458</td>\n",
       "      <td>3.863433276</td>\n",
       "      <td>40.365319</td>\n",
       "      <td>40.570710</td>\n",
       "      <td>0</td>\n",
       "      <td>0</td>\n",
       "      <td>true</td>\n",
       "      <td>2</td>\n",
       "    </tr>\n",
       "    <tr>\n",
       "      <th>3</th>\n",
       "      <td>3177248676</td>\n",
       "      <td>9</td>\n",
       "      <td>X3177248676</td>\n",
       "      <td>11.11742645905593 49.437419830658655|11.11740...</td>\n",
       "      <td>3</td>\n",
       "      <td>5</td>\n",
       "      <td>4.634520764</td>\n",
       "      <td>1.727115052</td>\n",
       "      <td>18.177112</td>\n",
       "      <td>207.655745</td>\n",
       "      <td>0</td>\n",
       "      <td>0</td>\n",
       "      <td>false</td>\n",
       "      <td>2</td>\n",
       "    </tr>\n",
       "    <tr>\n",
       "      <th>4</th>\n",
       "      <td>3177248676</td>\n",
       "      <td>9</td>\n",
       "      <td>13177248676</td>\n",
       "      <td>11.117117406584201 49.43662220739599|11.11710...</td>\n",
       "      <td>1</td>\n",
       "      <td>7</td>\n",
       "      <td>5.783676541</td>\n",
       "      <td>1.727115052</td>\n",
       "      <td>95.552747</td>\n",
       "      <td>207.655745</td>\n",
       "      <td>0</td>\n",
       "      <td>0</td>\n",
       "      <td>false</td>\n",
       "      <td>2</td>\n",
       "    </tr>\n",
       "  </tbody>\n",
       "</table>\n",
       "</div>"
      ],
      "text/plain": [
       "       roadId   totalLaneLines   laneLineId  \\\n",
       "0  3177248677                3  X3177248677   \n",
       "1  3177248677                3  13177248677   \n",
       "2  3177248677                3  23177248677   \n",
       "3  3177248676                9  X3177248676   \n",
       "4  3177248676                9  13177248676   \n",
       "\n",
       "                                 laneLineCoordinates   totalLinesOnLeft  \\\n",
       "0   11.117636626741222 49.43799310961545|11.11761...                  2   \n",
       "1   11.11771009862968 49.43794191822495|11.117697...                  0   \n",
       "2   11.117673197144772 49.43796782435575|11.11765...                  1   \n",
       "3   11.11742645905593 49.437419830658655|11.11740...                  3   \n",
       "4   11.117117406584201 49.43662220739599|11.11710...                  1   \n",
       "\n",
       "    totalLaneLinesOnRight  distFromLaneLineOnLeft  distFromLaneLineOnRight  \\\n",
       "0                       0             3.863433276                            \n",
       "1                       2                                      3.740901458   \n",
       "2                       1             3.740901458              3.863433276   \n",
       "3                       5             4.634520764              1.727115052   \n",
       "4                       7             5.783676541              1.727115052   \n",
       "\n",
       "    laneLineLength   roadLength   noOfIntersectingLaneLinesLeft  \\\n",
       "0         4.396337    40.570710                               0   \n",
       "1        37.316844    40.570710                               0   \n",
       "2        40.365319    40.570710                               0   \n",
       "3        18.177112   207.655745                               0   \n",
       "4        95.552747   207.655745                               0   \n",
       "\n",
       "    noOfIntersectingLaneLinesRight  isIntersectingWithRoadGeometry  \\\n",
       "0                                0                           false   \n",
       "1                                0                           false   \n",
       "2                                0                            true   \n",
       "3                                0                           false   \n",
       "4                                0                           false   \n",
       "\n",
       "    roadCategory  \n",
       "0              2  \n",
       "1              2  \n",
       "2              2  \n",
       "3              2  \n",
       "4              2  "
      ]
     },
     "execution_count": 3,
     "metadata": {},
     "output_type": "execute_result"
    }
   ],
   "source": [
    "data.head()"
   ]
  },
  {
   "cell_type": "code",
   "execution_count": 4,
   "metadata": {},
   "outputs": [
    {
     "data": {
      "text/html": [
       "<div>\n",
       "<style>\n",
       "    .dataframe thead tr:only-child th {\n",
       "        text-align: right;\n",
       "    }\n",
       "\n",
       "    .dataframe thead th {\n",
       "        text-align: left;\n",
       "    }\n",
       "\n",
       "    .dataframe tbody tr th {\n",
       "        vertical-align: top;\n",
       "    }\n",
       "</style>\n",
       "<table border=\"1\" class=\"dataframe\">\n",
       "  <thead>\n",
       "    <tr style=\"text-align: right;\">\n",
       "      <th></th>\n",
       "      <th>roadId</th>\n",
       "      <th>totalLaneLines</th>\n",
       "      <th>laneLineId</th>\n",
       "      <th>laneLineCoordinates</th>\n",
       "      <th>totalLinesOnLeft</th>\n",
       "      <th>totalLaneLinesOnRight</th>\n",
       "      <th>distFromLaneLineOnLeft</th>\n",
       "      <th>distFromLaneLineOnRight</th>\n",
       "      <th>laneLineLength</th>\n",
       "      <th>roadLength</th>\n",
       "      <th>noOfIntersectingLaneLinesLeft</th>\n",
       "      <th>noOfIntersectingLaneLinesRight</th>\n",
       "      <th>isIntersectingWithRoadGeometry</th>\n",
       "      <th>roadCategory</th>\n",
       "      <th>roadCoordinates</th>\n",
       "      <th>noOfLanes</th>\n",
       "      <th>roadCoordinates_count</th>\n",
       "      <th>laneLineCoordinates_count</th>\n",
       "    </tr>\n",
       "  </thead>\n",
       "  <tbody>\n",
       "    <tr>\n",
       "      <th>0</th>\n",
       "      <td>3177248677</td>\n",
       "      <td>3</td>\n",
       "      <td>X3177248677</td>\n",
       "      <td>11.117636626741222 49.43799310961545|11.11761...</td>\n",
       "      <td>2</td>\n",
       "      <td>0</td>\n",
       "      <td>3.863433276</td>\n",
       "      <td></td>\n",
       "      <td>4.396337</td>\n",
       "      <td>40.57071</td>\n",
       "      <td>0</td>\n",
       "      <td>0</td>\n",
       "      <td>false</td>\n",
       "      <td>2</td>\n",
       "      <td>11.11747 49.43763|11.11753 49.43776|11.11761 ...</td>\n",
       "      <td>2</td>\n",
       "      <td>5</td>\n",
       "      <td>3</td>\n",
       "    </tr>\n",
       "    <tr>\n",
       "      <th>1</th>\n",
       "      <td>3177248677</td>\n",
       "      <td>3</td>\n",
       "      <td>13177248677</td>\n",
       "      <td>11.11771009862968 49.43794191822495|11.117697...</td>\n",
       "      <td>0</td>\n",
       "      <td>2</td>\n",
       "      <td></td>\n",
       "      <td>3.740901458</td>\n",
       "      <td>37.316844</td>\n",
       "      <td>40.57071</td>\n",
       "      <td>0</td>\n",
       "      <td>0</td>\n",
       "      <td>false</td>\n",
       "      <td>2</td>\n",
       "      <td>11.11747 49.43763|11.11753 49.43776|11.11761 ...</td>\n",
       "      <td>2</td>\n",
       "      <td>5</td>\n",
       "      <td>6</td>\n",
       "    </tr>\n",
       "  </tbody>\n",
       "</table>\n",
       "</div>"
      ],
      "text/plain": [
       "       roadId  totalLaneLines   laneLineId  \\\n",
       "0  3177248677               3  X3177248677   \n",
       "1  3177248677               3  13177248677   \n",
       "\n",
       "                                 laneLineCoordinates  totalLinesOnLeft  \\\n",
       "0   11.117636626741222 49.43799310961545|11.11761...                 2   \n",
       "1   11.11771009862968 49.43794191822495|11.117697...                 0   \n",
       "\n",
       "   totalLaneLinesOnRight distFromLaneLineOnLeft distFromLaneLineOnRight  \\\n",
       "0                      0            3.863433276                           \n",
       "1                      2                                    3.740901458   \n",
       "\n",
       "   laneLineLength  roadLength  noOfIntersectingLaneLinesLeft  \\\n",
       "0        4.396337    40.57071                              0   \n",
       "1       37.316844    40.57071                              0   \n",
       "\n",
       "   noOfIntersectingLaneLinesRight isIntersectingWithRoadGeometry  \\\n",
       "0                               0                          false   \n",
       "1                               0                          false   \n",
       "\n",
       "   roadCategory                                    roadCoordinates  noOfLanes  \\\n",
       "0             2   11.11747 49.43763|11.11753 49.43776|11.11761 ...          2   \n",
       "1             2   11.11747 49.43763|11.11753 49.43776|11.11761 ...          2   \n",
       "\n",
       "   roadCoordinates_count  laneLineCoordinates_count  \n",
       "0                      5                          3  \n",
       "1                      5                          6  "
      ]
     },
     "execution_count": 4,
     "metadata": {},
     "output_type": "execute_result"
    }
   ],
   "source": [
    "new_data=pd.merge(data,labels,on='roadId',how='left')\n",
    "new_data.columns=[i.strip(' ')for i in new_data.columns]\n",
    "new_data['roadCoordinates_count']=new_data['roadCoordinates'].apply(lambda x: len(x.split()))\n",
    "new_data['laneLineCoordinates_count']=new_data['laneLineCoordinates'].apply(lambda x: len(x.split()))\n",
    "new_data=new_data.fillna(0)\n",
    "new_data.head(2)"
   ]
  },
  {
   "cell_type": "code",
   "execution_count": 59,
   "metadata": {
    "collapsed": true
   },
   "outputs": [],
   "source": [
    "def num_con(x):\n",
    "    try:\n",
    "        return float(x)\n",
    "    except:\n",
    "        return 0\n",
    "    \n",
    "def geom(x):\n",
    "    if x=='false':\n",
    "        return 0\n",
    "    else:\n",
    "        return 1"
   ]
  },
  {
   "cell_type": "code",
   "execution_count": 60,
   "metadata": {
    "collapsed": true
   },
   "outputs": [],
   "source": [
    "new_data['distFromLaneLineOnLeft']=new_data['distFromLaneLineOnLeft'].apply(lambda x: num_con(x))\n",
    "new_data['distFromLaneLineOnRight']=new_data['distFromLaneLineOnRight'].apply(lambda x: num_con(x))\n",
    "new_data['isIntersectingWithRoadGeometry']=new_data['isIntersectingWithRoadGeometry'].apply(lambda x: num_con(x))"
   ]
  },
  {
   "cell_type": "code",
   "execution_count": 61,
   "metadata": {},
   "outputs": [
    {
     "data": {
      "text/plain": [
       "Index(['roadId', 'totalLaneLines', 'laneLineId', 'laneLineCoordinates',\n",
       "       'totalLinesOnLeft', 'totalLaneLinesOnRight', 'distFromLaneLineOnLeft',\n",
       "       'distFromLaneLineOnRight', 'laneLineLength', 'roadLength',\n",
       "       'noOfIntersectingLaneLinesLeft', 'noOfIntersectingLaneLinesRight',\n",
       "       'isIntersectingWithRoadGeometry', 'roadCategory', 'roadCoordinates',\n",
       "       'noOfLanes', 'roadCoordinates_count', 'laneLineCoordinates_count'],\n",
       "      dtype='object')"
      ]
     },
     "execution_count": 61,
     "metadata": {},
     "output_type": "execute_result"
    }
   ],
   "source": [
    "new_data.columns"
   ]
  },
  {
   "cell_type": "code",
   "execution_count": 62,
   "metadata": {
    "collapsed": true,
    "scrolled": true
   },
   "outputs": [],
   "source": [
    "train_pro_data=new_data.groupby(by='roadId').agg({'laneLineId':'nunique','totalLaneLines':'mean','distFromLaneLineOnRight':'mean',\\\n",
    "                                   'distFromLaneLineOnLeft':'mean','laneLineLength':'mean',\\\n",
    "                                  'roadLength':'mean','noOfIntersectingLaneLinesLeft':'mean',\\\n",
    "                                  'roadCategory':'mean','isIntersectingWithRoadGeometry':'mean',\\\n",
    "                                  'laneLineCoordinates_count':'mean','noOfLanes':'mean'}).reset_index()"
   ]
  },
  {
   "cell_type": "code",
   "execution_count": 63,
   "metadata": {
    "collapsed": true
   },
   "outputs": [],
   "source": [
    "def laneLineLength_cut(x):\n",
    "    if x <25:\n",
    "        return 'A'\n",
    "    elif x <50:\n",
    "        return 'B'\n",
    "    elif x <200:\n",
    "        return 'C'\n",
    "    elif x <250:\n",
    "        return 'D'\n",
    "    else:\n",
    "        return 'E'"
   ]
  },
  {
   "cell_type": "code",
   "execution_count": 64,
   "metadata": {
    "collapsed": true,
    "scrolled": true
   },
   "outputs": [],
   "source": [
    "train_pro_data['roadLength_bucket']=train_pro_data['roadLength'].apply(lambda x: laneLineLength_cut(x))"
   ]
  },
  {
   "cell_type": "code",
   "execution_count": 65,
   "metadata": {
    "collapsed": true
   },
   "outputs": [],
   "source": [
    "lbl2=preprocessing.LabelEncoder()\n",
    "train_pro_data['roadLength_bucket']=lbl2.fit_transform(train_pro_data['roadLength_bucket'])"
   ]
  },
  {
   "cell_type": "code",
   "execution_count": 66,
   "metadata": {
    "collapsed": true
   },
   "outputs": [],
   "source": [
    "train_pro_data['noOfLanes']=train_pro_data['noOfLanes'].apply(lambda x:str(x))"
   ]
  },
  {
   "cell_type": "code",
   "execution_count": 67,
   "metadata": {},
   "outputs": [
    {
     "data": {
      "text/plain": [
       "LabelEncoder()"
      ]
     },
     "execution_count": 67,
     "metadata": {},
     "output_type": "execute_result"
    }
   ],
   "source": [
    "lbl=preprocessing.LabelEncoder()\n",
    "lbl.fit(train_pro_data['noOfLanes'])"
   ]
  },
  {
   "cell_type": "code",
   "execution_count": 68,
   "metadata": {
    "collapsed": true
   },
   "outputs": [],
   "source": [
    "train_pro_data['noOfLanes']=lbl.transform(train_pro_data['noOfLanes'])"
   ]
  },
  {
   "cell_type": "code",
   "execution_count": 69,
   "metadata": {},
   "outputs": [
    {
     "data": {
      "text/plain": [
       "(4825, 13)"
      ]
     },
     "execution_count": 69,
     "metadata": {},
     "output_type": "execute_result"
    }
   ],
   "source": [
    "train_pro_data.shape"
   ]
  },
  {
   "cell_type": "code",
   "execution_count": 70,
   "metadata": {},
   "outputs": [
    {
     "data": {
      "text/plain": [
       "((2493, 14), 400)"
      ]
     },
     "execution_count": 70,
     "metadata": {},
     "output_type": "execute_result"
    }
   ],
   "source": [
    "# new_test_data=pd.merge(test_data,labels,on='roadId',how='left')\n",
    "test_data.columns=[i.strip(' ')for i in test_data.columns]\n",
    "test_data.shape,len(np.unique(test_data['roadId']))"
   ]
  },
  {
   "cell_type": "code",
   "execution_count": 71,
   "metadata": {},
   "outputs": [
    {
     "data": {
      "text/html": [
       "<div>\n",
       "<style>\n",
       "    .dataframe thead tr:only-child th {\n",
       "        text-align: right;\n",
       "    }\n",
       "\n",
       "    .dataframe thead th {\n",
       "        text-align: left;\n",
       "    }\n",
       "\n",
       "    .dataframe tbody tr th {\n",
       "        vertical-align: top;\n",
       "    }\n",
       "</style>\n",
       "<table border=\"1\" class=\"dataframe\">\n",
       "  <thead>\n",
       "    <tr style=\"text-align: right;\">\n",
       "      <th></th>\n",
       "      <th>roadId</th>\n",
       "      <th>totalLaneLines</th>\n",
       "      <th>laneLineId</th>\n",
       "      <th>laneLineCoordinates</th>\n",
       "      <th>totalLinesOnLeft</th>\n",
       "      <th>totalLaneLinesOnRight</th>\n",
       "      <th>distFromLaneLineOnLeft</th>\n",
       "      <th>distFromLaneLineOnRight</th>\n",
       "      <th>laneLineLength</th>\n",
       "      <th>roadLength</th>\n",
       "      <th>noOfIntersectingLaneLinesLeft</th>\n",
       "      <th>noOfIntersectingLaneLinesRight</th>\n",
       "      <th>isIntersectingWithRoadGeometry</th>\n",
       "      <th>roadCategory</th>\n",
       "    </tr>\n",
       "  </thead>\n",
       "  <tbody>\n",
       "    <tr>\n",
       "      <th>0</th>\n",
       "      <td>291531296</td>\n",
       "      <td>5</td>\n",
       "      <td>X291531296</td>\n",
       "      <td>11.329899604343693 43.72956824243773|11.33004...</td>\n",
       "      <td>2</td>\n",
       "      <td>2</td>\n",
       "      <td>5.655398294</td>\n",
       "      <td>3.49899823</td>\n",
       "      <td>12.054597</td>\n",
       "      <td>12.056004</td>\n",
       "      <td>0</td>\n",
       "      <td>0</td>\n",
       "      <td>false</td>\n",
       "      <td>1</td>\n",
       "    </tr>\n",
       "    <tr>\n",
       "      <th>1</th>\n",
       "      <td>291531296</td>\n",
       "      <td>5</td>\n",
       "      <td>1291531296</td>\n",
       "      <td>11.329900151795446 43.729503478051974|11.3300...</td>\n",
       "      <td>4</td>\n",
       "      <td>0</td>\n",
       "      <td>3.685959755</td>\n",
       "      <td></td>\n",
       "      <td>12.060141</td>\n",
       "      <td>12.056004</td>\n",
       "      <td>0</td>\n",
       "      <td>0</td>\n",
       "      <td>false</td>\n",
       "      <td>1</td>\n",
       "    </tr>\n",
       "    <tr>\n",
       "      <th>2</th>\n",
       "      <td>291531296</td>\n",
       "      <td>5</td>\n",
       "      <td>2291531296</td>\n",
       "      <td>11.329899913660833 43.72953696742431|11.33004...</td>\n",
       "      <td>3</td>\n",
       "      <td>1</td>\n",
       "      <td>3.49899823</td>\n",
       "      <td>3.685959755</td>\n",
       "      <td>12.052468</td>\n",
       "      <td>12.056004</td>\n",
       "      <td>0</td>\n",
       "      <td>0</td>\n",
       "      <td>false</td>\n",
       "      <td>1</td>\n",
       "    </tr>\n",
       "    <tr>\n",
       "      <th>3</th>\n",
       "      <td>291531296</td>\n",
       "      <td>5</td>\n",
       "      <td>3291531296</td>\n",
       "      <td>11.329899175813209 43.72961906004278|11.33004...</td>\n",
       "      <td>1</td>\n",
       "      <td>3</td>\n",
       "      <td>3.481580911</td>\n",
       "      <td>5.655398294</td>\n",
       "      <td>12.046642</td>\n",
       "      <td>12.056004</td>\n",
       "      <td>0</td>\n",
       "      <td>0</td>\n",
       "      <td>false</td>\n",
       "      <td>1</td>\n",
       "    </tr>\n",
       "    <tr>\n",
       "      <th>4</th>\n",
       "      <td>291531296</td>\n",
       "      <td>5</td>\n",
       "      <td>4291531296</td>\n",
       "      <td>11.329899073264464 43.729650480155186|11.3300...</td>\n",
       "      <td>0</td>\n",
       "      <td>4</td>\n",
       "      <td></td>\n",
       "      <td>3.481580911</td>\n",
       "      <td>12.054345</td>\n",
       "      <td>12.056004</td>\n",
       "      <td>0</td>\n",
       "      <td>0</td>\n",
       "      <td>false</td>\n",
       "      <td>1</td>\n",
       "    </tr>\n",
       "  </tbody>\n",
       "</table>\n",
       "</div>"
      ],
      "text/plain": [
       "      roadId  totalLaneLines  laneLineId  \\\n",
       "0  291531296               5  X291531296   \n",
       "1  291531296               5  1291531296   \n",
       "2  291531296               5  2291531296   \n",
       "3  291531296               5  3291531296   \n",
       "4  291531296               5  4291531296   \n",
       "\n",
       "                                 laneLineCoordinates  totalLinesOnLeft  \\\n",
       "0   11.329899604343693 43.72956824243773|11.33004...                 2   \n",
       "1   11.329900151795446 43.729503478051974|11.3300...                 4   \n",
       "2   11.329899913660833 43.72953696742431|11.33004...                 3   \n",
       "3   11.329899175813209 43.72961906004278|11.33004...                 1   \n",
       "4   11.329899073264464 43.729650480155186|11.3300...                 0   \n",
       "\n",
       "   totalLaneLinesOnRight distFromLaneLineOnLeft distFromLaneLineOnRight  \\\n",
       "0                      2            5.655398294              3.49899823   \n",
       "1                      0            3.685959755                           \n",
       "2                      1             3.49899823             3.685959755   \n",
       "3                      3            3.481580911             5.655398294   \n",
       "4                      4                                    3.481580911   \n",
       "\n",
       "   laneLineLength  roadLength  noOfIntersectingLaneLinesLeft  \\\n",
       "0       12.054597   12.056004                              0   \n",
       "1       12.060141   12.056004                              0   \n",
       "2       12.052468   12.056004                              0   \n",
       "3       12.046642   12.056004                              0   \n",
       "4       12.054345   12.056004                              0   \n",
       "\n",
       "   noOfIntersectingLaneLinesRight isIntersectingWithRoadGeometry  roadCategory  \n",
       "0                               0                          false             1  \n",
       "1                               0                          false             1  \n",
       "2                               0                          false             1  \n",
       "3                               0                          false             1  \n",
       "4                               0                          false             1  "
      ]
     },
     "execution_count": 71,
     "metadata": {},
     "output_type": "execute_result"
    }
   ],
   "source": [
    "test_data.head()"
   ]
  },
  {
   "cell_type": "code",
   "execution_count": 72,
   "metadata": {},
   "outputs": [
    {
     "name": "stdout",
     "output_type": "stream",
     "text": [
      "(2493, 15)\n"
     ]
    },
    {
     "data": {
      "text/html": [
       "<div>\n",
       "<style>\n",
       "    .dataframe thead tr:only-child th {\n",
       "        text-align: right;\n",
       "    }\n",
       "\n",
       "    .dataframe thead th {\n",
       "        text-align: left;\n",
       "    }\n",
       "\n",
       "    .dataframe tbody tr th {\n",
       "        vertical-align: top;\n",
       "    }\n",
       "</style>\n",
       "<table border=\"1\" class=\"dataframe\">\n",
       "  <thead>\n",
       "    <tr style=\"text-align: right;\">\n",
       "      <th></th>\n",
       "      <th>roadId</th>\n",
       "      <th>totalLaneLines</th>\n",
       "      <th>laneLineId</th>\n",
       "      <th>laneLineCoordinates</th>\n",
       "      <th>totalLinesOnLeft</th>\n",
       "      <th>totalLaneLinesOnRight</th>\n",
       "      <th>distFromLaneLineOnLeft</th>\n",
       "      <th>distFromLaneLineOnRight</th>\n",
       "      <th>laneLineLength</th>\n",
       "      <th>roadLength</th>\n",
       "      <th>noOfIntersectingLaneLinesLeft</th>\n",
       "      <th>noOfIntersectingLaneLinesRight</th>\n",
       "      <th>isIntersectingWithRoadGeometry</th>\n",
       "      <th>roadCategory</th>\n",
       "      <th>laneLineCoordinates_count</th>\n",
       "    </tr>\n",
       "  </thead>\n",
       "  <tbody>\n",
       "    <tr>\n",
       "      <th>0</th>\n",
       "      <td>291531296</td>\n",
       "      <td>5</td>\n",
       "      <td>X291531296</td>\n",
       "      <td>11.329899604343693 43.72956824243773|11.33004...</td>\n",
       "      <td>2</td>\n",
       "      <td>2</td>\n",
       "      <td>5.655398294</td>\n",
       "      <td>3.49899823</td>\n",
       "      <td>12.054597</td>\n",
       "      <td>12.056004</td>\n",
       "      <td>0</td>\n",
       "      <td>0</td>\n",
       "      <td>false</td>\n",
       "      <td>1</td>\n",
       "      <td>3</td>\n",
       "    </tr>\n",
       "    <tr>\n",
       "      <th>1</th>\n",
       "      <td>291531296</td>\n",
       "      <td>5</td>\n",
       "      <td>1291531296</td>\n",
       "      <td>11.329900151795446 43.729503478051974|11.3300...</td>\n",
       "      <td>4</td>\n",
       "      <td>0</td>\n",
       "      <td>3.685959755</td>\n",
       "      <td></td>\n",
       "      <td>12.060141</td>\n",
       "      <td>12.056004</td>\n",
       "      <td>0</td>\n",
       "      <td>0</td>\n",
       "      <td>false</td>\n",
       "      <td>1</td>\n",
       "      <td>3</td>\n",
       "    </tr>\n",
       "  </tbody>\n",
       "</table>\n",
       "</div>"
      ],
      "text/plain": [
       "      roadId  totalLaneLines  laneLineId  \\\n",
       "0  291531296               5  X291531296   \n",
       "1  291531296               5  1291531296   \n",
       "\n",
       "                                 laneLineCoordinates  totalLinesOnLeft  \\\n",
       "0   11.329899604343693 43.72956824243773|11.33004...                 2   \n",
       "1   11.329900151795446 43.729503478051974|11.3300...                 4   \n",
       "\n",
       "   totalLaneLinesOnRight distFromLaneLineOnLeft distFromLaneLineOnRight  \\\n",
       "0                      2            5.655398294              3.49899823   \n",
       "1                      0            3.685959755                           \n",
       "\n",
       "   laneLineLength  roadLength  noOfIntersectingLaneLinesLeft  \\\n",
       "0       12.054597   12.056004                              0   \n",
       "1       12.060141   12.056004                              0   \n",
       "\n",
       "   noOfIntersectingLaneLinesRight isIntersectingWithRoadGeometry  \\\n",
       "0                               0                          false   \n",
       "1                               0                          false   \n",
       "\n",
       "   roadCategory  laneLineCoordinates_count  \n",
       "0             1                          3  \n",
       "1             1                          3  "
      ]
     },
     "execution_count": 72,
     "metadata": {},
     "output_type": "execute_result"
    }
   ],
   "source": [
    "# new_test_data['roadCoordinates_count']=new_test_data['roadCoordinates'].apply(lambda x: len(x.split()))\n",
    "test_data['laneLineCoordinates_count']=test_data['laneLineCoordinates'].apply(lambda x: len(x.split()))\n",
    "test_data=test_data.fillna(0)\n",
    "print (test_data.shape)\n",
    "test_data.head(2)"
   ]
  },
  {
   "cell_type": "code",
   "execution_count": 73,
   "metadata": {
    "collapsed": true
   },
   "outputs": [],
   "source": [
    "test_data['distFromLaneLineOnLeft']=test_data['distFromLaneLineOnLeft'].apply(lambda x: num_con(x))\n",
    "test_data['distFromLaneLineOnRight']=test_data['distFromLaneLineOnRight'].apply(lambda x: num_con(x))\n",
    "test_data['isIntersectingWithRoadGeometry']=test_data['isIntersectingWithRoadGeometry'].apply(lambda x: num_con(x))"
   ]
  },
  {
   "cell_type": "code",
   "execution_count": 74,
   "metadata": {
    "collapsed": true
   },
   "outputs": [],
   "source": [
    "test_pro_data=test_data.groupby(by='roadId').agg({'laneLineId':'nunique','totalLaneLines':'mean','distFromLaneLineOnRight':'mean',\\\n",
    "                                   'distFromLaneLineOnLeft':'mean','laneLineLength':'mean',\\\n",
    "                                  'roadLength':'mean','noOfIntersectingLaneLinesLeft':'sum',\\\n",
    "                                  'roadCategory':'mean','isIntersectingWithRoadGeometry':'sum',\\\n",
    "                                  'laneLineCoordinates_count':'mean'}).reset_index()"
   ]
  },
  {
   "cell_type": "code",
   "execution_count": 75,
   "metadata": {
    "scrolled": true
   },
   "outputs": [
    {
     "data": {
      "text/plain": [
       "(400, 11)"
      ]
     },
     "execution_count": 75,
     "metadata": {},
     "output_type": "execute_result"
    }
   ],
   "source": [
    "test_pro_data.shape"
   ]
  },
  {
   "cell_type": "code",
   "execution_count": 76,
   "metadata": {
    "collapsed": true
   },
   "outputs": [],
   "source": [
    "test_pro_data['roadLength_bucket']=test_pro_data['roadLength'].apply(lambda x: laneLineLength_cut(x))\n",
    "test_pro_data['roadLength_bucket']=lbl2.transform(test_pro_data['roadLength_bucket'])"
   ]
  },
  {
   "cell_type": "code",
   "execution_count": 77,
   "metadata": {},
   "outputs": [
    {
     "data": {
      "text/plain": [
       "Index(['roadId', 'laneLineId', 'totalLaneLines', 'distFromLaneLineOnRight',\n",
       "       'distFromLaneLineOnLeft', 'laneLineLength', 'roadLength',\n",
       "       'noOfIntersectingLaneLinesLeft', 'roadCategory',\n",
       "       'isIntersectingWithRoadGeometry', 'laneLineCoordinates_count',\n",
       "       'roadLength_bucket'],\n",
       "      dtype='object')"
      ]
     },
     "execution_count": 77,
     "metadata": {},
     "output_type": "execute_result"
    }
   ],
   "source": [
    "test_pro_data.columns"
   ]
  },
  {
   "cell_type": "code",
   "execution_count": 78,
   "metadata": {},
   "outputs": [
    {
     "data": {
      "text/plain": [
       "Index(['roadId', 'laneLineId', 'totalLaneLines', 'distFromLaneLineOnRight',\n",
       "       'distFromLaneLineOnLeft', 'laneLineLength', 'roadLength',\n",
       "       'noOfIntersectingLaneLinesLeft', 'roadCategory',\n",
       "       'isIntersectingWithRoadGeometry', 'laneLineCoordinates_count',\n",
       "       'noOfLanes', 'roadLength_bucket'],\n",
       "      dtype='object')"
      ]
     },
     "execution_count": 78,
     "metadata": {},
     "output_type": "execute_result"
    }
   ],
   "source": [
    "train_pro_data.columns"
   ]
  },
  {
   "cell_type": "code",
   "execution_count": 79,
   "metadata": {
    "collapsed": true
   },
   "outputs": [],
   "source": [
    "X=test_pro_data.columns.tolist()[1:]\n",
    "Y='noOfLanes'"
   ]
  },
  {
   "cell_type": "markdown",
   "metadata": {},
   "source": [
    "### XGB .773"
   ]
  },
  {
   "cell_type": "code",
   "execution_count": 80,
   "metadata": {
    "collapsed": true
   },
   "outputs": [],
   "source": [
    "dtrain=xgb.DMatrix(train_pro_data[X],label=train_pro_data[Y])\n",
    "dtest=xgb.DMatrix(test_pro_data[X])"
   ]
  },
  {
   "cell_type": "code",
   "execution_count": 81,
   "metadata": {
    "collapsed": true
   },
   "outputs": [],
   "source": [
    "def score_f1(preds,dtrain):\n",
    "#     print ('>>>>',type(preds),preds.shape)\n",
    "    labels=dtrain.get_label()\n",
    "    return 'score_f1',metrics.f1_score(labels,preds,average='weighted')"
   ]
  },
  {
   "cell_type": "code",
   "execution_count": 82,
   "metadata": {
    "collapsed": true
   },
   "outputs": [],
   "source": [
    "param={}\n",
    "param['eta']=.3\n",
    "param['objective']='multi:softmax'\n",
    "param['num_class']=6\n",
    "param['max_depth']= 12\n",
    "param['n_estimators']: 350"
   ]
  },
  {
   "cell_type": "code",
   "execution_count": 83,
   "metadata": {},
   "outputs": [
    {
     "name": "stdout",
     "output_type": "stream",
     "text": [
      "[0]\ttrain-score_f1:0.795749\ttest-score_f1:0.52096\n",
      "[10]\ttrain-score_f1:0.967383\ttest-score_f1:0.540661\n",
      "[20]\ttrain-score_f1:0.99002\ttest-score_f1:0.544128\n",
      "[30]\ttrain-score_f1:0.996983\ttest-score_f1:0.5392\n",
      "[40]\ttrain-score_f1:0.999482\ttest-score_f1:0.541166\n",
      "[50]\ttrain-score_f1:0.999896\ttest-score_f1:0.540253\n",
      "[60]\ttrain-score_f1:1\ttest-score_f1:0.539296\n",
      "[70]\ttrain-score_f1:1\ttest-score_f1:0.538467\n"
     ]
    }
   ],
   "source": [
    "xcv=xgb.cv(param,dtrain,num_boost_round=200,feval=score_f1,maximize=True,early_stopping_rounds=50,\\\n",
    "       show_stdv=False,verbose_eval=10)"
   ]
  },
  {
   "cell_type": "code",
   "execution_count": 84,
   "metadata": {},
   "outputs": [
    {
     "data": {
      "text/plain": [
       "22"
      ]
     },
     "execution_count": 84,
     "metadata": {},
     "output_type": "execute_result"
    }
   ],
   "source": [
    "num_rounds=len(xcv)\n",
    "num_rounds"
   ]
  },
  {
   "cell_type": "code",
   "execution_count": 85,
   "metadata": {},
   "outputs": [
    {
     "name": "stdout",
     "output_type": "stream",
     "text": [
      "[0]\tdtrain-score_f1:0.780648\n",
      "Will train until dtrain-score_f1 hasn't improved in 50 rounds.\n",
      "[10]\tdtrain-score_f1:0.952099\n",
      "[20]\tdtrain-score_f1:0.979741\n"
     ]
    }
   ],
   "source": [
    "watchlist=[(dtrain,'dtrain')]\n",
    "model_xgb=xgb.train(param,dtrain,evals=watchlist,num_boost_round=num_rounds,feval=score_f1,maximize=True,\\\n",
    "                    early_stopping_rounds=50,\\\n",
    "       verbose_eval=10)"
   ]
  },
  {
   "cell_type": "code",
   "execution_count": 86,
   "metadata": {},
   "outputs": [
    {
     "data": {
      "text/plain": [
       "(array([ 0.,  1.,  2.,  3.,  4.,  5.], dtype=float32),\n",
       " array([ 26, 212, 104,  54,   3,   1], dtype=int64))"
      ]
     },
     "execution_count": 86,
     "metadata": {},
     "output_type": "execute_result"
    }
   ],
   "source": [
    "model_pred=model_xgb.predict(dtest)\n",
    "np.unique(model_pred,return_counts=True)"
   ]
  },
  {
   "cell_type": "code",
   "execution_count": 87,
   "metadata": {},
   "outputs": [
    {
     "data": {
      "text/plain": [
       "array(['1', '2', '3', '4', '5', '6'], dtype=object)"
      ]
     },
     "execution_count": 87,
     "metadata": {},
     "output_type": "execute_result"
    }
   ],
   "source": [
    "model_pred=lbl.inverse_transform(model_pred.astype(int))\n",
    "np.unique(model_pred)"
   ]
  },
  {
   "cell_type": "code",
   "execution_count": 88,
   "metadata": {
    "collapsed": true
   },
   "outputs": [],
   "source": [
    "sub_samp1=pd.DataFrame(test_pro_data['roadId'])\n",
    "sub_samp1['noOfLanes']=model_pred"
   ]
  },
  {
   "cell_type": "code",
   "execution_count": 89,
   "metadata": {
    "collapsed": true
   },
   "outputs": [],
   "source": [
    "sub_samp1.to_csv(path+'2xgb_model_less_feature.csv',index=False)"
   ]
  },
  {
   "cell_type": "code",
   "execution_count": 90,
   "metadata": {},
   "outputs": [
    {
     "data": {
      "text/plain": [
       "((3377, 11), (3377,), (1448, 11), (1448,))"
      ]
     },
     "execution_count": 90,
     "metadata": {},
     "output_type": "execute_result"
    }
   ],
   "source": [
    "train_X,test_X,train_y,test_y=cross_validation.train_test_split(train_pro_data[X],train_pro_data[Y],test_size=.3,random_state =123)\n",
    "train_X.shape,train_y.shape,test_X.shape,test_y.shape"
   ]
  },
  {
   "cell_type": "markdown",
   "metadata": {},
   "source": [
    "### Catboost"
   ]
  },
  {
   "cell_type": "code",
   "execution_count": 91,
   "metadata": {},
   "outputs": [
    {
     "data": {
      "text/plain": [
       "<catboost.core.CatBoostClassifier at 0x1b4a0b55d68>"
      ]
     },
     "execution_count": 91,
     "metadata": {},
     "output_type": "execute_result"
    }
   ],
   "source": [
    "clf = CatBoostClassifier(learning_rate=0.01, iterations=1000, random_seed=0, \\\n",
    "                          loss_function='MultiClass', class_count=6)\n",
    "clf.fit(train_X, train_y,eval_set=(test_X,test_y),use_best_model=True)"
   ]
  },
  {
   "cell_type": "code",
   "execution_count": 92,
   "metadata": {},
   "outputs": [
    {
     "data": {
      "text/plain": [
       "0.54433440217152729"
      ]
     },
     "execution_count": 92,
     "metadata": {},
     "output_type": "execute_result"
    }
   ],
   "source": [
    "metrics.f1_score(test_y,np.ravel(clf.predict(test_X)),average='weighted')"
   ]
  },
  {
   "cell_type": "code",
   "execution_count": 93,
   "metadata": {},
   "outputs": [
    {
     "data": {
      "text/plain": [
       "(array([ 0.,  1.,  2.,  3.,  4.]),\n",
       " array([ 22, 214, 134,  29,   1], dtype=int64))"
      ]
     },
     "execution_count": 93,
     "metadata": {},
     "output_type": "execute_result"
    }
   ],
   "source": [
    "# clf.fit(train_pro_data[X], train_pro_data[Y])\n",
    "pred_cat=np.ravel(clf.predict(test_pro_data[X]))\n",
    "\n",
    "np.unique(pred_cat,return_counts=True)"
   ]
  },
  {
   "cell_type": "code",
   "execution_count": 94,
   "metadata": {},
   "outputs": [
    {
     "name": "stdout",
     "output_type": "stream",
     "text": [
      "['1' '2' '3' '4' '5']\n"
     ]
    }
   ],
   "source": [
    "pred_cat=lbl.inverse_transform(pred_cat.astype(int))\n",
    "print(np.unique(pred_cat))\n",
    "\n",
    "sub_samp2=pd.DataFrame(test_pro_data['roadId'])\n",
    "sub_samp2['noOfLanes']=pred_cat\n",
    "\n",
    "sub_samp2.to_csv(path+'2cat_model_less_feature.csv',index=False)"
   ]
  },
  {
   "cell_type": "markdown",
   "metadata": {},
   "source": [
    "### lightgbm"
   ]
  },
  {
   "cell_type": "code",
   "execution_count": 95,
   "metadata": {
    "collapsed": true
   },
   "outputs": [],
   "source": [
    "t4_params = {\n",
    "    'boosting_type': 'gbdt', 'objective': 'multiclass', 'nthread': -1, 'silent': True,\n",
    "    'num_leaves': 2**4, 'learning_rate': 0.05, 'max_depth': 4,\n",
    "    'max_bin': 255, 'subsample_for_bin': 50000,\n",
    "    'subsample': 0.8, 'subsample_freq': 1, 'colsample_bytree': 0.6, 'reg_alpha': 1, 'reg_lambda': 0,\n",
    "    'min_split_gain': 0.5, 'min_child_weight': 1, 'min_child_samples': 10, 'scale_pos_weight': 1}\n",
    "\n",
    "# they can be used directly to build a LGBMClassifier (which is wrapped in a sklearn fashion)"
   ]
  },
  {
   "cell_type": "code",
   "execution_count": 96,
   "metadata": {
    "collapsed": true
   },
   "outputs": [],
   "source": [
    "ligh_mdl=lgb.LGBMClassifier(**t4_params)"
   ]
  },
  {
   "cell_type": "code",
   "execution_count": 97,
   "metadata": {},
   "outputs": [
    {
     "data": {
      "text/plain": [
       "LGBMClassifier(boosting_type='gbdt', colsample_bytree=0.6, learning_rate=0.05,\n",
       "        max_bin=255, max_depth=4, min_child_samples=10, min_child_weight=1,\n",
       "        min_split_gain=0.5, n_estimators=10, nthread=-1, num_leaves=16,\n",
       "        objective='multiclass', reg_alpha=1, reg_lambda=0,\n",
       "        scale_pos_weight=1, seed=0, silent=True, subsample=0.8,\n",
       "        subsample_for_bin=50000, subsample_freq=1)"
      ]
     },
     "execution_count": 97,
     "metadata": {},
     "output_type": "execute_result"
    }
   ],
   "source": [
    "ligh_mdl.fit(train_X, train_y)"
   ]
  },
  {
   "cell_type": "code",
   "execution_count": 98,
   "metadata": {},
   "outputs": [
    {
     "data": {
      "text/plain": [
       "0.50741036287931585"
      ]
     },
     "execution_count": 98,
     "metadata": {},
     "output_type": "execute_result"
    }
   ],
   "source": [
    "metrics.f1_score(test_y,ligh_mdl.predict(test_X),average='weighted')"
   ]
  },
  {
   "cell_type": "code",
   "execution_count": 99,
   "metadata": {},
   "outputs": [
    {
     "data": {
      "text/plain": [
       "(array([0, 1, 2, 3, 4], dtype=int64),\n",
       " array([ 12, 188, 174,  21,   5], dtype=int64))"
      ]
     },
     "execution_count": 99,
     "metadata": {},
     "output_type": "execute_result"
    }
   ],
   "source": [
    "ligh_mdl.fit(train_pro_data[X], train_pro_data[Y])\n",
    "pred_lgb=ligh_mdl.predict(test_pro_data[X])\n",
    "np.unique(pred_lgb,return_counts=True)"
   ]
  },
  {
   "cell_type": "code",
   "execution_count": 100,
   "metadata": {},
   "outputs": [
    {
     "name": "stdout",
     "output_type": "stream",
     "text": [
      "['1' '2' '3' '4' '5']\n"
     ]
    }
   ],
   "source": [
    "pred_lgb=lbl.inverse_transform(pred_lgb.astype(int))\n",
    "print(np.unique(pred_lgb))\n",
    "\n",
    "sub_samp3=pd.DataFrame(test_pro_data['roadId'])\n",
    "sub_samp3['noOfLanes']=pred_lgb\n",
    "\n",
    "sub_samp3.to_csv(path+'2lgb_model_less_feature.csv',index=False)"
   ]
  },
  {
   "cell_type": "code",
   "execution_count": 101,
   "metadata": {
    "collapsed": true
   },
   "outputs": [],
   "source": [
    "lolwa=pd.DataFrame(data={'roadId':test_pro_data['roadId'],'xgb':model_pred,'cat':pred_cat,'lgb':pred_lgb})"
   ]
  },
  {
   "cell_type": "code",
   "execution_count": 102,
   "metadata": {
    "collapsed": true
   },
   "outputs": [],
   "source": [
    "def mode_data(x,y,z):\n",
    "    if x==y:\n",
    "        return x\n",
    "    elif y==z:\n",
    "        return y\n",
    "    else:\n",
    "        return 'lala'"
   ]
  },
  {
   "cell_type": "code",
   "execution_count": 103,
   "metadata": {
    "collapsed": true
   },
   "outputs": [],
   "source": [
    "lolwa['ense']=lolwa[['xgb','cat','lgb']].apply(lambda x: mode_data(*x),axis=1)"
   ]
  },
  {
   "cell_type": "code",
   "execution_count": 104,
   "metadata": {
    "collapsed": true
   },
   "outputs": [],
   "source": [
    "def val_repl(x,y):\n",
    "    if x=='lala':\n",
    "        return y\n",
    "    else:\n",
    "        return x"
   ]
  },
  {
   "cell_type": "code",
   "execution_count": 105,
   "metadata": {
    "collapsed": true
   },
   "outputs": [],
   "source": [
    "lolwa['ense']=lolwa[['ense','xgb']].apply(lambda x: val_repl(*x),axis=1)"
   ]
  },
  {
   "cell_type": "code",
   "execution_count": 106,
   "metadata": {
    "collapsed": true
   },
   "outputs": [],
   "source": [
    "lolwa=lolwa[['roadId','ense']]\n",
    "lolwa.columns=['roadId','noOfLanes']"
   ]
  },
  {
   "cell_type": "code",
   "execution_count": 107,
   "metadata": {},
   "outputs": [
    {
     "data": {
      "text/plain": [
       "(array(['1', '2', '3', '4', '5', '6'], dtype=object),\n",
       " array([ 17, 210, 137,  31,   4,   1], dtype=int64))"
      ]
     },
     "execution_count": 107,
     "metadata": {},
     "output_type": "execute_result"
    }
   ],
   "source": [
    "np.unique(lolwa['noOfLanes'],return_counts=True)"
   ]
  },
  {
   "cell_type": "code",
   "execution_count": 108,
   "metadata": {
    "collapsed": true
   },
   "outputs": [],
   "source": [
    "lolwa.to_csv('2ense_xcl.csv',index=False)"
   ]
  },
  {
   "cell_type": "code",
   "execution_count": null,
   "metadata": {
    "collapsed": true
   },
   "outputs": [],
   "source": []
  },
  {
   "cell_type": "code",
   "execution_count": null,
   "metadata": {
    "collapsed": true
   },
   "outputs": [],
   "source": []
  }
 ],
 "metadata": {
  "kernelspec": {
   "display_name": "Python 3",
   "language": "python",
   "name": "python3"
  },
  "language_info": {
   "codemirror_mode": {
    "name": "ipython",
    "version": 3
   },
   "file_extension": ".py",
   "mimetype": "text/x-python",
   "name": "python",
   "nbconvert_exporter": "python",
   "pygments_lexer": "ipython3",
   "version": "3.6.1"
  }
 },
 "nbformat": 4,
 "nbformat_minor": 2
}
