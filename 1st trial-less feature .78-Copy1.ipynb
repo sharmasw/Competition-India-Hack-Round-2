{
 "cells": [
  {
   "cell_type": "code",
   "execution_count": 1,
   "metadata": {},
   "outputs": [
    {
     "name": "stderr",
     "output_type": "stream",
     "text": [
      "C:\\Users\\sharm_000\\Anaconda2\\envs\\py36\\lib\\site-packages\\sklearn\\cross_validation.py:44: DeprecationWarning: This module was deprecated in version 0.18 in favor of the model_selection module into which all the refactored classes and functions are moved. Also note that the interface of the new CV iterators are different from that of this module. This module will be removed in 0.20.\n",
      "  \"This module will be removed in 0.20.\", DeprecationWarning)\n"
     ]
    }
   ],
   "source": [
    "import pandas as pd\n",
    "import numpy as np\n",
    "import seaborn as sns\n",
    "import xgboost as xgb\n",
    "import matplotlib.pyplot as plt\n",
    "%matplotlib inline\n",
    "import warnings\n",
    "warnings.filterwarnings('ignore')\n",
    "from sklearn import ensemble,metrics,cross_validation,preprocessing,grid_search\n",
    "path='C:/Projects/Hackerearth_2/'\n",
    "from catboost import CatBoost, CatBoostClassifier\n",
    "import lightgbm as lgb"
   ]
  },
  {
   "cell_type": "code",
   "execution_count": 2,
   "metadata": {},
   "outputs": [
    {
     "name": "stdout",
     "output_type": "stream",
     "text": [
      "(28914, 14) (4825, 3)\n"
     ]
    },
    {
     "data": {
      "text/plain": [
       "(4825, 400)"
      ]
     },
     "execution_count": 2,
     "metadata": {},
     "output_type": "execute_result"
    }
   ],
   "source": [
    "data=pd.read_csv(path+'train.csv',dtype={'roadId':object})\n",
    "labels=pd.read_csv(path+'labels.csv',dtype={'roadId':object})\n",
    "test_data=pd.read_csv(path+'test.csv',dtype={'roadId':object})\n",
    "print (data.shape,labels.shape)\n",
    "len(np.unique(data['roadId'])),len(np.unique(test_data['roadId']))"
   ]
  },
  {
   "cell_type": "code",
   "execution_count": 3,
   "metadata": {},
   "outputs": [
    {
     "data": {
      "text/html": [
       "<div>\n",
       "<style>\n",
       "    .dataframe thead tr:only-child th {\n",
       "        text-align: right;\n",
       "    }\n",
       "\n",
       "    .dataframe thead th {\n",
       "        text-align: left;\n",
       "    }\n",
       "\n",
       "    .dataframe tbody tr th {\n",
       "        vertical-align: top;\n",
       "    }\n",
       "</style>\n",
       "<table border=\"1\" class=\"dataframe\">\n",
       "  <thead>\n",
       "    <tr style=\"text-align: right;\">\n",
       "      <th></th>\n",
       "      <th>roadId</th>\n",
       "      <th>totalLaneLines</th>\n",
       "      <th>laneLineId</th>\n",
       "      <th>laneLineCoordinates</th>\n",
       "      <th>totalLinesOnLeft</th>\n",
       "      <th>totalLaneLinesOnRight</th>\n",
       "      <th>distFromLaneLineOnLeft</th>\n",
       "      <th>distFromLaneLineOnRight</th>\n",
       "      <th>laneLineLength</th>\n",
       "      <th>roadLength</th>\n",
       "      <th>noOfIntersectingLaneLinesLeft</th>\n",
       "      <th>noOfIntersectingLaneLinesRight</th>\n",
       "      <th>isIntersectingWithRoadGeometry</th>\n",
       "      <th>roadCategory</th>\n",
       "      <th>roadCoordinates</th>\n",
       "      <th>noOfLanes</th>\n",
       "      <th>roadCoordinates_count</th>\n",
       "      <th>laneLineCoordinates_count</th>\n",
       "    </tr>\n",
       "  </thead>\n",
       "  <tbody>\n",
       "    <tr>\n",
       "      <th>0</th>\n",
       "      <td>3177248677</td>\n",
       "      <td>3</td>\n",
       "      <td>X3177248677</td>\n",
       "      <td>11.117636626741222 49.43799310961545|11.11761...</td>\n",
       "      <td>2</td>\n",
       "      <td>0</td>\n",
       "      <td>3.863433276</td>\n",
       "      <td></td>\n",
       "      <td>4.396337</td>\n",
       "      <td>40.57071</td>\n",
       "      <td>0</td>\n",
       "      <td>0</td>\n",
       "      <td>false</td>\n",
       "      <td>2</td>\n",
       "      <td>11.11747 49.43763|11.11753 49.43776|11.11761 ...</td>\n",
       "      <td>2</td>\n",
       "      <td>5</td>\n",
       "      <td>3</td>\n",
       "    </tr>\n",
       "    <tr>\n",
       "      <th>1</th>\n",
       "      <td>3177248677</td>\n",
       "      <td>3</td>\n",
       "      <td>13177248677</td>\n",
       "      <td>11.11771009862968 49.43794191822495|11.117697...</td>\n",
       "      <td>0</td>\n",
       "      <td>2</td>\n",
       "      <td></td>\n",
       "      <td>3.740901458</td>\n",
       "      <td>37.316844</td>\n",
       "      <td>40.57071</td>\n",
       "      <td>0</td>\n",
       "      <td>0</td>\n",
       "      <td>false</td>\n",
       "      <td>2</td>\n",
       "      <td>11.11747 49.43763|11.11753 49.43776|11.11761 ...</td>\n",
       "      <td>2</td>\n",
       "      <td>5</td>\n",
       "      <td>6</td>\n",
       "    </tr>\n",
       "  </tbody>\n",
       "</table>\n",
       "</div>"
      ],
      "text/plain": [
       "       roadId  totalLaneLines   laneLineId  \\\n",
       "0  3177248677               3  X3177248677   \n",
       "1  3177248677               3  13177248677   \n",
       "\n",
       "                                 laneLineCoordinates  totalLinesOnLeft  \\\n",
       "0   11.117636626741222 49.43799310961545|11.11761...                 2   \n",
       "1   11.11771009862968 49.43794191822495|11.117697...                 0   \n",
       "\n",
       "   totalLaneLinesOnRight distFromLaneLineOnLeft distFromLaneLineOnRight  \\\n",
       "0                      0            3.863433276                           \n",
       "1                      2                                    3.740901458   \n",
       "\n",
       "   laneLineLength  roadLength  noOfIntersectingLaneLinesLeft  \\\n",
       "0        4.396337    40.57071                              0   \n",
       "1       37.316844    40.57071                              0   \n",
       "\n",
       "   noOfIntersectingLaneLinesRight isIntersectingWithRoadGeometry  \\\n",
       "0                               0                          false   \n",
       "1                               0                          false   \n",
       "\n",
       "   roadCategory                                    roadCoordinates  noOfLanes  \\\n",
       "0             2   11.11747 49.43763|11.11753 49.43776|11.11761 ...          2   \n",
       "1             2   11.11747 49.43763|11.11753 49.43776|11.11761 ...          2   \n",
       "\n",
       "   roadCoordinates_count  laneLineCoordinates_count  \n",
       "0                      5                          3  \n",
       "1                      5                          6  "
      ]
     },
     "execution_count": 3,
     "metadata": {},
     "output_type": "execute_result"
    }
   ],
   "source": [
    "new_data=pd.merge(data,labels,on='roadId',how='left')\n",
    "new_data.columns=[i.strip(' ')for i in new_data.columns]\n",
    "new_data['roadCoordinates_count']=new_data['roadCoordinates'].apply(lambda x: len(x.split()))\n",
    "new_data['laneLineCoordinates_count']=new_data['laneLineCoordinates'].apply(lambda x: len(x.split()))\n",
    "new_data=new_data.fillna(0)\n",
    "new_data.head(2)"
   ]
  },
  {
   "cell_type": "code",
   "execution_count": 4,
   "metadata": {
    "collapsed": true
   },
   "outputs": [],
   "source": [
    "def num_con(x):\n",
    "    try:\n",
    "        return float(x)\n",
    "    except:\n",
    "        return 0\n",
    "    \n",
    "def geom(x):\n",
    "    if x=='false':\n",
    "        return 0\n",
    "    else:\n",
    "        return 1"
   ]
  },
  {
   "cell_type": "code",
   "execution_count": 5,
   "metadata": {
    "collapsed": true
   },
   "outputs": [],
   "source": [
    "new_data['distFromLaneLineOnLeft']=new_data['distFromLaneLineOnLeft'].apply(lambda x: num_con(x))\n",
    "new_data['distFromLaneLineOnRight']=new_data['distFromLaneLineOnRight'].apply(lambda x: num_con(x))\n",
    "new_data['isIntersectingWithRoadGeometry']=new_data['isIntersectingWithRoadGeometry'].apply(lambda x: num_con(x))"
   ]
  },
  {
   "cell_type": "code",
   "execution_count": 6,
   "metadata": {},
   "outputs": [
    {
     "data": {
      "text/plain": [
       "Index(['roadId', 'totalLaneLines', 'laneLineId', 'laneLineCoordinates',\n",
       "       'totalLinesOnLeft', 'totalLaneLinesOnRight', 'distFromLaneLineOnLeft',\n",
       "       'distFromLaneLineOnRight', 'laneLineLength', 'roadLength',\n",
       "       'noOfIntersectingLaneLinesLeft', 'noOfIntersectingLaneLinesRight',\n",
       "       'isIntersectingWithRoadGeometry', 'roadCategory', 'roadCoordinates',\n",
       "       'noOfLanes', 'roadCoordinates_count', 'laneLineCoordinates_count'],\n",
       "      dtype='object')"
      ]
     },
     "execution_count": 6,
     "metadata": {},
     "output_type": "execute_result"
    }
   ],
   "source": [
    "new_data.columns"
   ]
  },
  {
   "cell_type": "code",
   "execution_count": 7,
   "metadata": {
    "collapsed": true,
    "scrolled": true
   },
   "outputs": [],
   "source": [
    "train_pro_data=new_data.groupby(by='roadId').agg({'laneLineId':'nunique','totalLaneLines':'mean','distFromLaneLineOnRight':'mean',\\\n",
    "                                   'distFromLaneLineOnLeft':'mean','laneLineLength':'mean',\\\n",
    "                                  'roadLength':'mean','noOfIntersectingLaneLinesLeft':'mean',\\\n",
    "                                  'roadCategory':'mean','isIntersectingWithRoadGeometry':'mean',\\\n",
    "                                  'laneLineCoordinates_count':'mean','noOfLanes':'mean'}).reset_index()"
   ]
  },
  {
   "cell_type": "code",
   "execution_count": 8,
   "metadata": {
    "collapsed": true
   },
   "outputs": [],
   "source": [
    "def laneLineLength_cut(x):\n",
    "    if x <25:\n",
    "        return 'A'\n",
    "    elif x <50:\n",
    "        return 'B'\n",
    "    elif x <200:\n",
    "        return 'C'\n",
    "    elif x <250:\n",
    "        return 'D'\n",
    "    else:\n",
    "        return 'E'"
   ]
  },
  {
   "cell_type": "code",
   "execution_count": 9,
   "metadata": {
    "scrolled": true
   },
   "outputs": [],
   "source": [
    "train_pro_data['roadLength_bucket']=train_pro_data['roadLength'].apply(lambda x: laneLineLength_cut(x))"
   ]
  },
  {
   "cell_type": "code",
   "execution_count": 10,
   "metadata": {},
   "outputs": [],
   "source": [
    "lbl2=preprocessing.LabelEncoder()\n",
    "train_pro_data['roadLength_bucket']=lbl2.fit_transform(train_pro_data['roadLength_bucket'])"
   ]
  },
  {
   "cell_type": "code",
   "execution_count": 11,
   "metadata": {
    "collapsed": true
   },
   "outputs": [],
   "source": [
    "train_pro_data['noOfLanes']=train_pro_data['noOfLanes'].apply(lambda x:str(x))"
   ]
  },
  {
   "cell_type": "code",
   "execution_count": 12,
   "metadata": {},
   "outputs": [
    {
     "data": {
      "text/plain": [
       "LabelEncoder()"
      ]
     },
     "execution_count": 12,
     "metadata": {},
     "output_type": "execute_result"
    }
   ],
   "source": [
    "lbl=preprocessing.LabelEncoder()\n",
    "lbl.fit(train_pro_data['noOfLanes'])"
   ]
  },
  {
   "cell_type": "code",
   "execution_count": 13,
   "metadata": {
    "collapsed": true
   },
   "outputs": [],
   "source": [
    "train_pro_data['noOfLanes']=lbl.transform(train_pro_data['noOfLanes'])"
   ]
  },
  {
   "cell_type": "code",
   "execution_count": 14,
   "metadata": {},
   "outputs": [
    {
     "data": {
      "text/plain": [
       "(4825, 13)"
      ]
     },
     "execution_count": 14,
     "metadata": {},
     "output_type": "execute_result"
    }
   ],
   "source": [
    "train_pro_data.shape"
   ]
  },
  {
   "cell_type": "code",
   "execution_count": 15,
   "metadata": {},
   "outputs": [
    {
     "data": {
      "text/plain": [
       "((2493, 14), 400)"
      ]
     },
     "execution_count": 15,
     "metadata": {},
     "output_type": "execute_result"
    }
   ],
   "source": [
    "# new_test_data=pd.merge(test_data,labels,on='roadId',how='left')\n",
    "test_data.columns=[i.strip(' ')for i in test_data.columns]\n",
    "test_data.shape,len(np.unique(test_data['roadId']))"
   ]
  },
  {
   "cell_type": "code",
   "execution_count": 16,
   "metadata": {},
   "outputs": [
    {
     "data": {
      "text/html": [
       "<div>\n",
       "<style>\n",
       "    .dataframe thead tr:only-child th {\n",
       "        text-align: right;\n",
       "    }\n",
       "\n",
       "    .dataframe thead th {\n",
       "        text-align: left;\n",
       "    }\n",
       "\n",
       "    .dataframe tbody tr th {\n",
       "        vertical-align: top;\n",
       "    }\n",
       "</style>\n",
       "<table border=\"1\" class=\"dataframe\">\n",
       "  <thead>\n",
       "    <tr style=\"text-align: right;\">\n",
       "      <th></th>\n",
       "      <th>roadId</th>\n",
       "      <th>totalLaneLines</th>\n",
       "      <th>laneLineId</th>\n",
       "      <th>laneLineCoordinates</th>\n",
       "      <th>totalLinesOnLeft</th>\n",
       "      <th>totalLaneLinesOnRight</th>\n",
       "      <th>distFromLaneLineOnLeft</th>\n",
       "      <th>distFromLaneLineOnRight</th>\n",
       "      <th>laneLineLength</th>\n",
       "      <th>roadLength</th>\n",
       "      <th>noOfIntersectingLaneLinesLeft</th>\n",
       "      <th>noOfIntersectingLaneLinesRight</th>\n",
       "      <th>isIntersectingWithRoadGeometry</th>\n",
       "      <th>roadCategory</th>\n",
       "    </tr>\n",
       "  </thead>\n",
       "  <tbody>\n",
       "    <tr>\n",
       "      <th>0</th>\n",
       "      <td>291531296</td>\n",
       "      <td>5</td>\n",
       "      <td>X291531296</td>\n",
       "      <td>11.329899604343693 43.72956824243773|11.33004...</td>\n",
       "      <td>2</td>\n",
       "      <td>2</td>\n",
       "      <td>5.655398294</td>\n",
       "      <td>3.49899823</td>\n",
       "      <td>12.054597</td>\n",
       "      <td>12.056004</td>\n",
       "      <td>0</td>\n",
       "      <td>0</td>\n",
       "      <td>false</td>\n",
       "      <td>1</td>\n",
       "    </tr>\n",
       "    <tr>\n",
       "      <th>1</th>\n",
       "      <td>291531296</td>\n",
       "      <td>5</td>\n",
       "      <td>1291531296</td>\n",
       "      <td>11.329900151795446 43.729503478051974|11.3300...</td>\n",
       "      <td>4</td>\n",
       "      <td>0</td>\n",
       "      <td>3.685959755</td>\n",
       "      <td></td>\n",
       "      <td>12.060141</td>\n",
       "      <td>12.056004</td>\n",
       "      <td>0</td>\n",
       "      <td>0</td>\n",
       "      <td>false</td>\n",
       "      <td>1</td>\n",
       "    </tr>\n",
       "    <tr>\n",
       "      <th>2</th>\n",
       "      <td>291531296</td>\n",
       "      <td>5</td>\n",
       "      <td>2291531296</td>\n",
       "      <td>11.329899913660833 43.72953696742431|11.33004...</td>\n",
       "      <td>3</td>\n",
       "      <td>1</td>\n",
       "      <td>3.49899823</td>\n",
       "      <td>3.685959755</td>\n",
       "      <td>12.052468</td>\n",
       "      <td>12.056004</td>\n",
       "      <td>0</td>\n",
       "      <td>0</td>\n",
       "      <td>false</td>\n",
       "      <td>1</td>\n",
       "    </tr>\n",
       "    <tr>\n",
       "      <th>3</th>\n",
       "      <td>291531296</td>\n",
       "      <td>5</td>\n",
       "      <td>3291531296</td>\n",
       "      <td>11.329899175813209 43.72961906004278|11.33004...</td>\n",
       "      <td>1</td>\n",
       "      <td>3</td>\n",
       "      <td>3.481580911</td>\n",
       "      <td>5.655398294</td>\n",
       "      <td>12.046642</td>\n",
       "      <td>12.056004</td>\n",
       "      <td>0</td>\n",
       "      <td>0</td>\n",
       "      <td>false</td>\n",
       "      <td>1</td>\n",
       "    </tr>\n",
       "    <tr>\n",
       "      <th>4</th>\n",
       "      <td>291531296</td>\n",
       "      <td>5</td>\n",
       "      <td>4291531296</td>\n",
       "      <td>11.329899073264464 43.729650480155186|11.3300...</td>\n",
       "      <td>0</td>\n",
       "      <td>4</td>\n",
       "      <td></td>\n",
       "      <td>3.481580911</td>\n",
       "      <td>12.054345</td>\n",
       "      <td>12.056004</td>\n",
       "      <td>0</td>\n",
       "      <td>0</td>\n",
       "      <td>false</td>\n",
       "      <td>1</td>\n",
       "    </tr>\n",
       "  </tbody>\n",
       "</table>\n",
       "</div>"
      ],
      "text/plain": [
       "      roadId  totalLaneLines  laneLineId  \\\n",
       "0  291531296               5  X291531296   \n",
       "1  291531296               5  1291531296   \n",
       "2  291531296               5  2291531296   \n",
       "3  291531296               5  3291531296   \n",
       "4  291531296               5  4291531296   \n",
       "\n",
       "                                 laneLineCoordinates  totalLinesOnLeft  \\\n",
       "0   11.329899604343693 43.72956824243773|11.33004...                 2   \n",
       "1   11.329900151795446 43.729503478051974|11.3300...                 4   \n",
       "2   11.329899913660833 43.72953696742431|11.33004...                 3   \n",
       "3   11.329899175813209 43.72961906004278|11.33004...                 1   \n",
       "4   11.329899073264464 43.729650480155186|11.3300...                 0   \n",
       "\n",
       "   totalLaneLinesOnRight distFromLaneLineOnLeft distFromLaneLineOnRight  \\\n",
       "0                      2            5.655398294              3.49899823   \n",
       "1                      0            3.685959755                           \n",
       "2                      1             3.49899823             3.685959755   \n",
       "3                      3            3.481580911             5.655398294   \n",
       "4                      4                                    3.481580911   \n",
       "\n",
       "   laneLineLength  roadLength  noOfIntersectingLaneLinesLeft  \\\n",
       "0       12.054597   12.056004                              0   \n",
       "1       12.060141   12.056004                              0   \n",
       "2       12.052468   12.056004                              0   \n",
       "3       12.046642   12.056004                              0   \n",
       "4       12.054345   12.056004                              0   \n",
       "\n",
       "   noOfIntersectingLaneLinesRight isIntersectingWithRoadGeometry  roadCategory  \n",
       "0                               0                          false             1  \n",
       "1                               0                          false             1  \n",
       "2                               0                          false             1  \n",
       "3                               0                          false             1  \n",
       "4                               0                          false             1  "
      ]
     },
     "execution_count": 16,
     "metadata": {},
     "output_type": "execute_result"
    }
   ],
   "source": [
    "test_data.head()"
   ]
  },
  {
   "cell_type": "code",
   "execution_count": 17,
   "metadata": {},
   "outputs": [
    {
     "name": "stdout",
     "output_type": "stream",
     "text": [
      "(2493, 15)\n"
     ]
    },
    {
     "data": {
      "text/html": [
       "<div>\n",
       "<style>\n",
       "    .dataframe thead tr:only-child th {\n",
       "        text-align: right;\n",
       "    }\n",
       "\n",
       "    .dataframe thead th {\n",
       "        text-align: left;\n",
       "    }\n",
       "\n",
       "    .dataframe tbody tr th {\n",
       "        vertical-align: top;\n",
       "    }\n",
       "</style>\n",
       "<table border=\"1\" class=\"dataframe\">\n",
       "  <thead>\n",
       "    <tr style=\"text-align: right;\">\n",
       "      <th></th>\n",
       "      <th>roadId</th>\n",
       "      <th>totalLaneLines</th>\n",
       "      <th>laneLineId</th>\n",
       "      <th>laneLineCoordinates</th>\n",
       "      <th>totalLinesOnLeft</th>\n",
       "      <th>totalLaneLinesOnRight</th>\n",
       "      <th>distFromLaneLineOnLeft</th>\n",
       "      <th>distFromLaneLineOnRight</th>\n",
       "      <th>laneLineLength</th>\n",
       "      <th>roadLength</th>\n",
       "      <th>noOfIntersectingLaneLinesLeft</th>\n",
       "      <th>noOfIntersectingLaneLinesRight</th>\n",
       "      <th>isIntersectingWithRoadGeometry</th>\n",
       "      <th>roadCategory</th>\n",
       "      <th>laneLineCoordinates_count</th>\n",
       "    </tr>\n",
       "  </thead>\n",
       "  <tbody>\n",
       "    <tr>\n",
       "      <th>0</th>\n",
       "      <td>291531296</td>\n",
       "      <td>5</td>\n",
       "      <td>X291531296</td>\n",
       "      <td>11.329899604343693 43.72956824243773|11.33004...</td>\n",
       "      <td>2</td>\n",
       "      <td>2</td>\n",
       "      <td>5.655398294</td>\n",
       "      <td>3.49899823</td>\n",
       "      <td>12.054597</td>\n",
       "      <td>12.056004</td>\n",
       "      <td>0</td>\n",
       "      <td>0</td>\n",
       "      <td>false</td>\n",
       "      <td>1</td>\n",
       "      <td>3</td>\n",
       "    </tr>\n",
       "    <tr>\n",
       "      <th>1</th>\n",
       "      <td>291531296</td>\n",
       "      <td>5</td>\n",
       "      <td>1291531296</td>\n",
       "      <td>11.329900151795446 43.729503478051974|11.3300...</td>\n",
       "      <td>4</td>\n",
       "      <td>0</td>\n",
       "      <td>3.685959755</td>\n",
       "      <td></td>\n",
       "      <td>12.060141</td>\n",
       "      <td>12.056004</td>\n",
       "      <td>0</td>\n",
       "      <td>0</td>\n",
       "      <td>false</td>\n",
       "      <td>1</td>\n",
       "      <td>3</td>\n",
       "    </tr>\n",
       "  </tbody>\n",
       "</table>\n",
       "</div>"
      ],
      "text/plain": [
       "      roadId  totalLaneLines  laneLineId  \\\n",
       "0  291531296               5  X291531296   \n",
       "1  291531296               5  1291531296   \n",
       "\n",
       "                                 laneLineCoordinates  totalLinesOnLeft  \\\n",
       "0   11.329899604343693 43.72956824243773|11.33004...                 2   \n",
       "1   11.329900151795446 43.729503478051974|11.3300...                 4   \n",
       "\n",
       "   totalLaneLinesOnRight distFromLaneLineOnLeft distFromLaneLineOnRight  \\\n",
       "0                      2            5.655398294              3.49899823   \n",
       "1                      0            3.685959755                           \n",
       "\n",
       "   laneLineLength  roadLength  noOfIntersectingLaneLinesLeft  \\\n",
       "0       12.054597   12.056004                              0   \n",
       "1       12.060141   12.056004                              0   \n",
       "\n",
       "   noOfIntersectingLaneLinesRight isIntersectingWithRoadGeometry  \\\n",
       "0                               0                          false   \n",
       "1                               0                          false   \n",
       "\n",
       "   roadCategory  laneLineCoordinates_count  \n",
       "0             1                          3  \n",
       "1             1                          3  "
      ]
     },
     "execution_count": 17,
     "metadata": {},
     "output_type": "execute_result"
    }
   ],
   "source": [
    "# new_test_data['roadCoordinates_count']=new_test_data['roadCoordinates'].apply(lambda x: len(x.split()))\n",
    "test_data['laneLineCoordinates_count']=test_data['laneLineCoordinates'].apply(lambda x: len(x.split()))\n",
    "test_data=test_data.fillna(0)\n",
    "print (test_data.shape)\n",
    "test_data.head(2)"
   ]
  },
  {
   "cell_type": "code",
   "execution_count": 18,
   "metadata": {
    "collapsed": true
   },
   "outputs": [],
   "source": [
    "test_data['distFromLaneLineOnLeft']=test_data['distFromLaneLineOnLeft'].apply(lambda x: num_con(x))\n",
    "test_data['distFromLaneLineOnRight']=test_data['distFromLaneLineOnRight'].apply(lambda x: num_con(x))\n",
    "test_data['isIntersectingWithRoadGeometry']=test_data['isIntersectingWithRoadGeometry'].apply(lambda x: num_con(x))"
   ]
  },
  {
   "cell_type": "code",
   "execution_count": 19,
   "metadata": {},
   "outputs": [],
   "source": [
    "test_pro_data=test_data.groupby(by='roadId').agg({'laneLineId':'nunique','totalLaneLines':'mean','distFromLaneLineOnRight':'mean',\\\n",
    "                                   'distFromLaneLineOnLeft':'mean','laneLineLength':'mean',\\\n",
    "                                  'roadLength':'mean','noOfIntersectingLaneLinesLeft':'sum',\\\n",
    "                                  'roadCategory':'mean',\\\n",
    "                                  'laneLineCoordinates_count':'mean'}).reset_index()"
   ]
  },
  {
   "cell_type": "code",
   "execution_count": 20,
   "metadata": {
    "scrolled": true
   },
   "outputs": [
    {
     "data": {
      "text/plain": [
       "(400, 10)"
      ]
     },
     "execution_count": 20,
     "metadata": {},
     "output_type": "execute_result"
    }
   ],
   "source": [
    "test_pro_data.shape"
   ]
  },
  {
   "cell_type": "code",
   "execution_count": 21,
   "metadata": {},
   "outputs": [],
   "source": [
    "test_pro_data['roadLength_bucket']=test_pro_data['roadLength'].apply(lambda x: laneLineLength_cut(x))\n",
    "test_pro_data['roadLength_bucket']=lbl2.transform(test_pro_data['roadLength_bucket'])"
   ]
  },
  {
   "cell_type": "code",
   "execution_count": 22,
   "metadata": {},
   "outputs": [
    {
     "data": {
      "text/plain": [
       "Index(['roadId', 'laneLineId', 'totalLaneLines', 'distFromLaneLineOnRight',\n",
       "       'distFromLaneLineOnLeft', 'laneLineLength', 'roadLength',\n",
       "       'noOfIntersectingLaneLinesLeft', 'roadCategory',\n",
       "       'laneLineCoordinates_count', 'roadLength_bucket'],\n",
       "      dtype='object')"
      ]
     },
     "execution_count": 22,
     "metadata": {},
     "output_type": "execute_result"
    }
   ],
   "source": [
    "test_pro_data.columns"
   ]
  },
  {
   "cell_type": "code",
   "execution_count": 23,
   "metadata": {},
   "outputs": [
    {
     "data": {
      "text/plain": [
       "Index(['roadId', 'laneLineId', 'totalLaneLines', 'distFromLaneLineOnRight',\n",
       "       'distFromLaneLineOnLeft', 'laneLineLength', 'roadLength',\n",
       "       'noOfIntersectingLaneLinesLeft', 'roadCategory',\n",
       "       'isIntersectingWithRoadGeometry', 'laneLineCoordinates_count',\n",
       "       'noOfLanes', 'roadLength_bucket'],\n",
       "      dtype='object')"
      ]
     },
     "execution_count": 23,
     "metadata": {},
     "output_type": "execute_result"
    }
   ],
   "source": [
    "train_pro_data.columns"
   ]
  },
  {
   "cell_type": "code",
   "execution_count": 24,
   "metadata": {},
   "outputs": [
    {
     "data": {
      "text/plain": [
       "10"
      ]
     },
     "execution_count": 24,
     "metadata": {},
     "output_type": "execute_result"
    }
   ],
   "source": [
    "X=test_pro_data.columns.tolist()[1:]\n",
    "Y='noOfLanes'\n",
    "len(X)"
   ]
  },
  {
   "cell_type": "markdown",
   "metadata": {},
   "source": [
    "### XGB .773"
   ]
  },
  {
   "cell_type": "code",
   "execution_count": 25,
   "metadata": {
    "collapsed": true
   },
   "outputs": [],
   "source": [
    "dtrain=xgb.DMatrix(train_pro_data[X],label=train_pro_data[Y])\n",
    "dtest=xgb.DMatrix(test_pro_data[X])"
   ]
  },
  {
   "cell_type": "code",
   "execution_count": 26,
   "metadata": {
    "collapsed": true
   },
   "outputs": [],
   "source": [
    "def score_f1(preds,dtrain):\n",
    "#     print ('>>>>',type(preds),preds.shape)\n",
    "    labels=dtrain.get_label()\n",
    "    return 'score_f1',metrics.f1_score(labels,preds,average='weighted')"
   ]
  },
  {
   "cell_type": "code",
   "execution_count": 27,
   "metadata": {
    "collapsed": true
   },
   "outputs": [],
   "source": [
    "param={}\n",
    "param['eta']=.1\n",
    "param['objective']='multi:softmax'\n",
    "param['num_class']=6\n",
    "param['max_depth']= 12\n",
    "param['n_estimators']: 350"
   ]
  },
  {
   "cell_type": "code",
   "execution_count": 28,
   "metadata": {},
   "outputs": [
    {
     "name": "stdout",
     "output_type": "stream",
     "text": [
      "[0]\ttrain-score_f1:0.795749\ttest-score_f1:0.52096\n",
      "[10]\ttrain-score_f1:0.917758\ttest-score_f1:0.541514\n",
      "[20]\ttrain-score_f1:0.952763\ttest-score_f1:0.544338\n",
      "[30]\ttrain-score_f1:0.967794\ttest-score_f1:0.544372\n",
      "[40]\ttrain-score_f1:0.977609\ttest-score_f1:0.545955\n",
      "[50]\ttrain-score_f1:0.983231\ttest-score_f1:0.54685\n",
      "[60]\ttrain-score_f1:0.98852\ttest-score_f1:0.546881\n",
      "[70]\ttrain-score_f1:0.99192\ttest-score_f1:0.548769\n",
      "[80]\ttrain-score_f1:0.994816\ttest-score_f1:0.545748\n",
      "[90]\ttrain-score_f1:0.996267\ttest-score_f1:0.545857\n",
      "[100]\ttrain-score_f1:0.997509\ttest-score_f1:0.543424\n",
      "[110]\ttrain-score_f1:0.998544\ttest-score_f1:0.543908\n",
      "[120]\ttrain-score_f1:0.999378\ttest-score_f1:0.540999\n"
     ]
    }
   ],
   "source": [
    "xcv=xgb.cv(param,dtrain,num_boost_round=200,feval=score_f1,maximize=True,early_stopping_rounds=50,\\\n",
    "       show_stdv=False,verbose_eval=10)"
   ]
  },
  {
   "cell_type": "code",
   "execution_count": 29,
   "metadata": {},
   "outputs": [
    {
     "data": {
      "text/plain": [
       "72"
      ]
     },
     "execution_count": 29,
     "metadata": {},
     "output_type": "execute_result"
    }
   ],
   "source": [
    "num_rounds=len(xcv)\n",
    "num_rounds"
   ]
  },
  {
   "cell_type": "code",
   "execution_count": 30,
   "metadata": {},
   "outputs": [
    {
     "name": "stdout",
     "output_type": "stream",
     "text": [
      "[0]\tdtrain-score_f1:0.780648\n",
      "Will train until dtrain-score_f1 hasn't improved in 50 rounds.\n",
      "[10]\tdtrain-score_f1:0.89915\n",
      "[20]\tdtrain-score_f1:0.935495\n",
      "[30]\tdtrain-score_f1:0.95603\n",
      "[40]\tdtrain-score_f1:0.967975\n",
      "[50]\tdtrain-score_f1:0.974739\n",
      "[60]\tdtrain-score_f1:0.980981\n",
      "[70]\tdtrain-score_f1:0.983455\n"
     ]
    }
   ],
   "source": [
    "watchlist=[(dtrain,'dtrain')]\n",
    "model_xgb=xgb.train(param,dtrain,evals=watchlist,num_boost_round=num_rounds,feval=score_f1,maximize=True,\\\n",
    "                    early_stopping_rounds=50,\\\n",
    "       verbose_eval=10)"
   ]
  },
  {
   "cell_type": "code",
   "execution_count": 31,
   "metadata": {},
   "outputs": [
    {
     "data": {
      "text/plain": [
       "(array([ 0.,  1.,  2.,  3.,  4.,  5.], dtype=float32),\n",
       " array([ 30, 214, 104,  47,   3,   2], dtype=int64))"
      ]
     },
     "execution_count": 31,
     "metadata": {},
     "output_type": "execute_result"
    }
   ],
   "source": [
    "model_pred=model_xgb.predict(dtest)\n",
    "model_pred_train=model_xgb.predict(dtest)\n",
    "np.unique(model_pred,return_counts=True)"
   ]
  },
  {
   "cell_type": "code",
   "execution_count": 32,
   "metadata": {},
   "outputs": [
    {
     "data": {
      "text/plain": [
       "array(['1', '2', '3', '4', '5', '6'], dtype=object)"
      ]
     },
     "execution_count": 32,
     "metadata": {},
     "output_type": "execute_result"
    }
   ],
   "source": [
    "model_pred=lbl.inverse_transform(model_pred.astype(int))\n",
    "np.unique(model_pred)"
   ]
  },
  {
   "cell_type": "code",
   "execution_count": 33,
   "metadata": {
    "collapsed": true
   },
   "outputs": [],
   "source": [
    "sub_samp1=pd.DataFrame(test_pro_data['roadId'])\n",
    "sub_samp1['noOfLanes']=model_pred"
   ]
  },
  {
   "cell_type": "code",
   "execution_count": 34,
   "metadata": {
    "collapsed": true
   },
   "outputs": [],
   "source": [
    "sub_samp1.to_csv(path+'2xgb_model_less_feature.csv',index=False)"
   ]
  },
  {
   "cell_type": "code",
   "execution_count": 35,
   "metadata": {},
   "outputs": [
    {
     "data": {
      "text/plain": [
       "((3377, 10), (3377,), (1448, 10), (1448,))"
      ]
     },
     "execution_count": 35,
     "metadata": {},
     "output_type": "execute_result"
    }
   ],
   "source": [
    "train_X,test_X,train_y,test_y=cross_validation.train_test_split(train_pro_data[X],train_pro_data[Y],test_size=.3,random_state =123)\n",
    "train_X.shape,train_y.shape,test_X.shape,test_y.shape"
   ]
  },
  {
   "cell_type": "markdown",
   "metadata": {},
   "source": [
    "### Catboost"
   ]
  },
  {
   "cell_type": "code",
   "execution_count": 36,
   "metadata": {},
   "outputs": [
    {
     "data": {
      "text/plain": [
       "<catboost.core.CatBoostClassifier at 0x1ddcb568278>"
      ]
     },
     "execution_count": 36,
     "metadata": {},
     "output_type": "execute_result"
    }
   ],
   "source": [
    "clf = CatBoostClassifier(learning_rate=0.01, iterations=1000, random_seed=0, \\\n",
    "                          loss_function='MultiClass', class_count=6)\n",
    "clf.fit(train_X, train_y,eval_set=(test_X,test_y),use_best_model=True)"
   ]
  },
  {
   "cell_type": "code",
   "execution_count": 37,
   "metadata": {},
   "outputs": [
    {
     "data": {
      "text/plain": [
       "0.54433440217152729"
      ]
     },
     "execution_count": 37,
     "metadata": {},
     "output_type": "execute_result"
    }
   ],
   "source": [
    "metrics.f1_score(test_y,np.ravel(clf.predict(test_X)),average='weighted')"
   ]
  },
  {
   "cell_type": "code",
   "execution_count": 38,
   "metadata": {},
   "outputs": [
    {
     "data": {
      "text/plain": [
       "(array([ 0.,  1.,  2.,  3.,  4.]),\n",
       " array([ 22, 214, 134,  29,   1], dtype=int64))"
      ]
     },
     "execution_count": 38,
     "metadata": {},
     "output_type": "execute_result"
    }
   ],
   "source": [
    "# clf.fit(train_pro_data[X], train_pro_data[Y])\n",
    "pred_cat=np.ravel(clf.predict(test_pro_data[X]))\n",
    "pred_cat_train=np.ravel(clf.predict(test_pro_data[X]))\n",
    "np.unique(pred_cat,return_counts=True)"
   ]
  },
  {
   "cell_type": "code",
   "execution_count": 39,
   "metadata": {},
   "outputs": [
    {
     "name": "stdout",
     "output_type": "stream",
     "text": [
      "['1' '2' '3' '4' '5']\n"
     ]
    }
   ],
   "source": [
    "pred_cat=lbl.inverse_transform(pred_cat.astype(int))\n",
    "print(np.unique(pred_cat))\n",
    "\n",
    "sub_samp2=pd.DataFrame(test_pro_data['roadId'])\n",
    "sub_samp2['noOfLanes']=pred_cat\n",
    "\n",
    "sub_samp2.to_csv(path+'2cat_model_less_feature.csv',index=False)"
   ]
  },
  {
   "cell_type": "markdown",
   "metadata": {},
   "source": [
    "### lightgbm"
   ]
  },
  {
   "cell_type": "code",
   "execution_count": 40,
   "metadata": {
    "collapsed": true
   },
   "outputs": [],
   "source": [
    "t4_params = {\n",
    "    'boosting_type': 'gbdt', 'objective': 'multiclass', 'nthread': -1, 'silent': True,\n",
    "    'num_leaves': 2**4, 'learning_rate': 0.05, 'max_depth': 4,\n",
    "    'max_bin': 255, 'subsample_for_bin': 50000,\n",
    "    'subsample': 0.8, 'subsample_freq': 1, 'colsample_bytree': 0.6, 'reg_alpha': 1, 'reg_lambda': 0,\n",
    "    'min_split_gain': 0.5, 'min_child_weight': 1, 'min_child_samples': 10, 'scale_pos_weight': 1}\n",
    "\n",
    "# they can be used directly to build a LGBMClassifier (which is wrapped in a sklearn fashion)"
   ]
  },
  {
   "cell_type": "code",
   "execution_count": 41,
   "metadata": {
    "collapsed": true
   },
   "outputs": [],
   "source": [
    "ligh_mdl=lgb.LGBMClassifier(**t4_params)"
   ]
  },
  {
   "cell_type": "code",
   "execution_count": 42,
   "metadata": {},
   "outputs": [
    {
     "data": {
      "text/plain": [
       "LGBMClassifier(boosting_type='gbdt', colsample_bytree=0.6, learning_rate=0.05,\n",
       "        max_bin=255, max_depth=4, min_child_samples=10, min_child_weight=1,\n",
       "        min_split_gain=0.5, n_estimators=10, nthread=-1, num_leaves=16,\n",
       "        objective='multiclass', reg_alpha=1, reg_lambda=0,\n",
       "        scale_pos_weight=1, seed=0, silent=True, subsample=0.8,\n",
       "        subsample_for_bin=50000, subsample_freq=1)"
      ]
     },
     "execution_count": 42,
     "metadata": {},
     "output_type": "execute_result"
    }
   ],
   "source": [
    "ligh_mdl.fit(train_X, train_y)"
   ]
  },
  {
   "cell_type": "code",
   "execution_count": 43,
   "metadata": {},
   "outputs": [
    {
     "data": {
      "text/plain": [
       "0.50021928463249676"
      ]
     },
     "execution_count": 43,
     "metadata": {},
     "output_type": "execute_result"
    }
   ],
   "source": [
    "metrics.f1_score(test_y,ligh_mdl.predict(test_X),average='weighted')"
   ]
  },
  {
   "cell_type": "code",
   "execution_count": 44,
   "metadata": {},
   "outputs": [
    {
     "data": {
      "text/plain": [
       "(array([0, 1, 2, 3, 4], dtype=int64),\n",
       " array([ 13, 197, 164,  22,   4], dtype=int64))"
      ]
     },
     "execution_count": 44,
     "metadata": {},
     "output_type": "execute_result"
    }
   ],
   "source": [
    "ligh_mdl.fit(train_pro_data[X], train_pro_data[Y])\n",
    "pred_lgb=ligh_mdl.predict(test_pro_data[X])\n",
    "pred_lgb_train=ligh_mdl.predict(test_pro_data[X])\n",
    "np.unique(pred_lgb,return_counts=True)"
   ]
  },
  {
   "cell_type": "code",
   "execution_count": 45,
   "metadata": {},
   "outputs": [
    {
     "name": "stdout",
     "output_type": "stream",
     "text": [
      "['1' '2' '3' '4' '5']\n"
     ]
    }
   ],
   "source": [
    "pred_lgb=lbl.inverse_transform(pred_lgb.astype(int))\n",
    "print(np.unique(pred_lgb))\n",
    "\n",
    "sub_samp3=pd.DataFrame(test_pro_data['roadId'])\n",
    "sub_samp3['noOfLanes']=pred_lgb\n",
    "\n",
    "sub_samp3.to_csv(path+'2lgb_model_less_feature.csv',index=False)"
   ]
  },
  {
   "cell_type": "code",
   "execution_count": 46,
   "metadata": {},
   "outputs": [
    {
     "data": {
      "text/html": [
       "<div>\n",
       "<style>\n",
       "    .dataframe thead tr:only-child th {\n",
       "        text-align: right;\n",
       "    }\n",
       "\n",
       "    .dataframe thead th {\n",
       "        text-align: left;\n",
       "    }\n",
       "\n",
       "    .dataframe tbody tr th {\n",
       "        vertical-align: top;\n",
       "    }\n",
       "</style>\n",
       "<table border=\"1\" class=\"dataframe\">\n",
       "  <thead>\n",
       "    <tr style=\"text-align: right;\">\n",
       "      <th></th>\n",
       "      <th>cat</th>\n",
       "      <th>lgb</th>\n",
       "      <th>noOfLanes</th>\n",
       "      <th>xgb</th>\n",
       "    </tr>\n",
       "  </thead>\n",
       "  <tbody>\n",
       "    <tr>\n",
       "      <th>0</th>\n",
       "      <td>2.0</td>\n",
       "      <td>2</td>\n",
       "      <td>1</td>\n",
       "      <td>1</td>\n",
       "    </tr>\n",
       "    <tr>\n",
       "      <th>1</th>\n",
       "      <td>1.0</td>\n",
       "      <td>1</td>\n",
       "      <td>1</td>\n",
       "      <td>1</td>\n",
       "    </tr>\n",
       "    <tr>\n",
       "      <th>2</th>\n",
       "      <td>2.0</td>\n",
       "      <td>2</td>\n",
       "      <td>1</td>\n",
       "      <td>1</td>\n",
       "    </tr>\n",
       "    <tr>\n",
       "      <th>3</th>\n",
       "      <td>2.0</td>\n",
       "      <td>2</td>\n",
       "      <td>2</td>\n",
       "      <td>2</td>\n",
       "    </tr>\n",
       "    <tr>\n",
       "      <th>4</th>\n",
       "      <td>2.0</td>\n",
       "      <td>2</td>\n",
       "      <td>2</td>\n",
       "      <td>2</td>\n",
       "    </tr>\n",
       "  </tbody>\n",
       "</table>\n",
       "</div>"
      ],
      "text/plain": [
       "   cat  lgb  noOfLanes  xgb\n",
       "0  2.0    2          1    1\n",
       "1  1.0    1          1    1\n",
       "2  2.0    2          1    1\n",
       "3  2.0    2          2    2\n",
       "4  2.0    2          2    2"
      ]
     },
     "execution_count": 46,
     "metadata": {},
     "output_type": "execute_result"
    }
   ],
   "source": [
    "xgb_train_res=(model_xgb.predict(dtrain).astype(int))\n",
    "cat_train=np.ravel(clf.predict(train_pro_data[X]))\n",
    "lgb_train=ligh_mdl.predict(train_pro_data[X])\n",
    "xgb_train_res.shape\n",
    "new_train_data=pd.DataFrame(data={'xgb':xgb_train_res,'cat':cat_train,'lgb':lgb_train,'noOfLanes':train_pro_data[Y]})\n",
    "\n",
    "new_train_data.head()"
   ]
  },
  {
   "cell_type": "code",
   "execution_count": 47,
   "metadata": {},
   "outputs": [
    {
     "data": {
      "text/plain": [
       "<catboost.core.CatBoostClassifier at 0x1ddd0a6ea20>"
      ]
     },
     "execution_count": 47,
     "metadata": {},
     "output_type": "execute_result"
    }
   ],
   "source": [
    "clf2 = CatBoostClassifier(learning_rate=0.01, iterations=1000, random_seed=0, \\\n",
    "                          loss_function='MultiClass', class_count=6)\n",
    "clf2.fit(new_train_data[['cat','lgb','xgb']], new_train_data['noOfLanes'])"
   ]
  },
  {
   "cell_type": "code",
   "execution_count": 48,
   "metadata": {
    "collapsed": true
   },
   "outputs": [],
   "source": [
    "train_lol=pd.DataFrame(data={'roadId':test_pro_data['roadId'],'xgb':model_pred_train,'cat':np.ravel(pred_cat_train),'lgb':pred_lgb_train})"
   ]
  },
  {
   "cell_type": "code",
   "execution_count": 54,
   "metadata": {},
   "outputs": [],
   "source": [
    "new_pred=np.ravel(clf2.predict(train_lol[['cat','lgb','xgb']]))\n",
    "new_pred=lbl.inverse_transform(new_pred.astype(int))"
   ]
  },
  {
   "cell_type": "code",
   "execution_count": 55,
   "metadata": {
    "collapsed": true
   },
   "outputs": [],
   "source": [
    "sub_samp4=pd.DataFrame(test_pro_data['roadId'])\n",
    "sub_samp4['noOfLanes']=new_pred\n",
    "\n",
    "sub_samp4.to_csv(path+'wierd_feature.csv',index=False)"
   ]
  },
  {
   "cell_type": "code",
   "execution_count": 56,
   "metadata": {
    "collapsed": true
   },
   "outputs": [],
   "source": [
    "def mode_data(x,y,z):\n",
    "    if x==y:\n",
    "        return x\n",
    "    elif y==z:\n",
    "        return y\n",
    "    else:\n",
    "        return 'lala'"
   ]
  },
  {
   "cell_type": "code",
   "execution_count": 57,
   "metadata": {
    "collapsed": true
   },
   "outputs": [],
   "source": [
    "lolwa=pd.DataFrame(data={'roadId':test_pro_data['roadId'],'xgb':model_pred,'cat':pred_cat,'lgb':pred_lgb})"
   ]
  },
  {
   "cell_type": "code",
   "execution_count": 58,
   "metadata": {
    "collapsed": true
   },
   "outputs": [],
   "source": [
    "lolwa['ense']=lolwa[['xgb','cat','lgb']].apply(lambda x: mode_data(*x),axis=1)"
   ]
  },
  {
   "cell_type": "code",
   "execution_count": 59,
   "metadata": {
    "collapsed": true
   },
   "outputs": [],
   "source": [
    "def val_repl(x,y):\n",
    "    if x=='lala':\n",
    "        return y\n",
    "    else:\n",
    "        return x"
   ]
  },
  {
   "cell_type": "code",
   "execution_count": 60,
   "metadata": {
    "collapsed": true
   },
   "outputs": [],
   "source": [
    "lolwa['ense']=lolwa[['ense','xgb']].apply(lambda x: val_repl(*x),axis=1)"
   ]
  },
  {
   "cell_type": "code",
   "execution_count": 61,
   "metadata": {
    "collapsed": true
   },
   "outputs": [],
   "source": [
    "lolwa=lolwa[['roadId','ense']]\n",
    "lolwa.columns=['roadId','noOfLanes']"
   ]
  },
  {
   "cell_type": "code",
   "execution_count": 62,
   "metadata": {},
   "outputs": [
    {
     "data": {
      "text/plain": [
       "(array(['1', '2', '3', '4', '5', '6'], dtype=object),\n",
       " array([ 19, 212, 139,  26,   2,   2], dtype=int64))"
      ]
     },
     "execution_count": 62,
     "metadata": {},
     "output_type": "execute_result"
    }
   ],
   "source": [
    "np.unique(lolwa['noOfLanes'],return_counts=True)"
   ]
  },
  {
   "cell_type": "code",
   "execution_count": 63,
   "metadata": {
    "collapsed": true
   },
   "outputs": [],
   "source": [
    "lolwa.to_csv('2ense_xcl.csv',index=False)"
   ]
  },
  {
   "cell_type": "code",
   "execution_count": null,
   "metadata": {
    "collapsed": true
   },
   "outputs": [],
   "source": []
  }
 ],
 "metadata": {
  "kernelspec": {
   "display_name": "Python 3",
   "language": "python",
   "name": "python3"
  },
  "language_info": {
   "codemirror_mode": {
    "name": "ipython",
    "version": 3
   },
   "file_extension": ".py",
   "mimetype": "text/x-python",
   "name": "python",
   "nbconvert_exporter": "python",
   "pygments_lexer": "ipython3",
   "version": "3.6.1"
  }
 },
 "nbformat": 4,
 "nbformat_minor": 2
}
