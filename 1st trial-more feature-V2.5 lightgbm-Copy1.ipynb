{
 "cells": [
  {
   "cell_type": "code",
   "execution_count": 1,
   "metadata": {
    "collapsed": true
   },
   "outputs": [],
   "source": [
    "from catboost import CatBoost, CatBoostClassifier\n",
    "import lightgbm as lgb"
   ]
  },
  {
   "cell_type": "code",
   "execution_count": 2,
   "metadata": {},
   "outputs": [
    {
     "name": "stderr",
     "output_type": "stream",
     "text": [
      "C:\\Users\\sharm_000\\Anaconda2\\envs\\py36\\lib\\site-packages\\sklearn\\cross_validation.py:44: DeprecationWarning: This module was deprecated in version 0.18 in favor of the model_selection module into which all the refactored classes and functions are moved. Also note that the interface of the new CV iterators are different from that of this module. This module will be removed in 0.20.\n",
      "  \"This module will be removed in 0.20.\", DeprecationWarning)\n"
     ]
    }
   ],
   "source": [
    "import pandas as pd\n",
    "import numpy as np\n",
    "import seaborn as sns\n",
    "import xgboost as xgb\n",
    "import matplotlib.pyplot as plt\n",
    "%matplotlib inline\n",
    "import warnings\n",
    "warnings.filterwarnings('ignore')\n",
    "from sklearn import ensemble,metrics,cross_validation,preprocessing,grid_search\n",
    "path='C:/Projects/Hackerearth_2/'"
   ]
  },
  {
   "cell_type": "code",
   "execution_count": 3,
   "metadata": {},
   "outputs": [
    {
     "name": "stdout",
     "output_type": "stream",
     "text": [
      "(28914, 14) (4825, 3)\n"
     ]
    },
    {
     "data": {
      "text/plain": [
       "(4825, 400)"
      ]
     },
     "execution_count": 3,
     "metadata": {},
     "output_type": "execute_result"
    }
   ],
   "source": [
    "data=pd.read_csv(path+'train.csv',dtype={'roadId':object})\n",
    "labels=pd.read_csv(path+'labels.csv',dtype={'roadId':object})\n",
    "test_data=pd.read_csv(path+'test.csv',dtype={'roadId':object})\n",
    "print (data.shape,labels.shape)\n",
    "len(np.unique(data['roadId'])),len(np.unique(test_data['roadId']))"
   ]
  },
  {
   "cell_type": "code",
   "execution_count": 4,
   "metadata": {},
   "outputs": [
    {
     "data": {
      "text/html": [
       "<div>\n",
       "<style>\n",
       "    .dataframe thead tr:only-child th {\n",
       "        text-align: right;\n",
       "    }\n",
       "\n",
       "    .dataframe thead th {\n",
       "        text-align: left;\n",
       "    }\n",
       "\n",
       "    .dataframe tbody tr th {\n",
       "        vertical-align: top;\n",
       "    }\n",
       "</style>\n",
       "<table border=\"1\" class=\"dataframe\">\n",
       "  <thead>\n",
       "    <tr style=\"text-align: right;\">\n",
       "      <th></th>\n",
       "      <th>roadId</th>\n",
       "      <th>totalLaneLines</th>\n",
       "      <th>laneLineId</th>\n",
       "      <th>laneLineCoordinates</th>\n",
       "      <th>totalLinesOnLeft</th>\n",
       "      <th>totalLaneLinesOnRight</th>\n",
       "      <th>distFromLaneLineOnLeft</th>\n",
       "      <th>distFromLaneLineOnRight</th>\n",
       "      <th>laneLineLength</th>\n",
       "      <th>roadLength</th>\n",
       "      <th>noOfIntersectingLaneLinesLeft</th>\n",
       "      <th>noOfIntersectingLaneLinesRight</th>\n",
       "      <th>isIntersectingWithRoadGeometry</th>\n",
       "      <th>roadCategory</th>\n",
       "      <th>roadCoordinates</th>\n",
       "      <th>noOfLanes</th>\n",
       "      <th>laneLineCoordinates_count</th>\n",
       "    </tr>\n",
       "  </thead>\n",
       "  <tbody>\n",
       "    <tr>\n",
       "      <th>0</th>\n",
       "      <td>3177248677</td>\n",
       "      <td>3</td>\n",
       "      <td>X3177248677</td>\n",
       "      <td>11.117636626741222 49.43799310961545|11.11761...</td>\n",
       "      <td>2</td>\n",
       "      <td>0</td>\n",
       "      <td>3.863433276</td>\n",
       "      <td></td>\n",
       "      <td>4.396337</td>\n",
       "      <td>40.57071</td>\n",
       "      <td>0</td>\n",
       "      <td>0</td>\n",
       "      <td>false</td>\n",
       "      <td>2</td>\n",
       "      <td>11.11747 49.43763|11.11753 49.43776|11.11761 ...</td>\n",
       "      <td>2</td>\n",
       "      <td>3</td>\n",
       "    </tr>\n",
       "  </tbody>\n",
       "</table>\n",
       "</div>"
      ],
      "text/plain": [
       "       roadId  totalLaneLines   laneLineId  \\\n",
       "0  3177248677               3  X3177248677   \n",
       "\n",
       "                                 laneLineCoordinates  totalLinesOnLeft  \\\n",
       "0   11.117636626741222 49.43799310961545|11.11761...                 2   \n",
       "\n",
       "   totalLaneLinesOnRight distFromLaneLineOnLeft distFromLaneLineOnRight  \\\n",
       "0                      0            3.863433276                           \n",
       "\n",
       "   laneLineLength  roadLength  noOfIntersectingLaneLinesLeft  \\\n",
       "0        4.396337    40.57071                              0   \n",
       "\n",
       "   noOfIntersectingLaneLinesRight isIntersectingWithRoadGeometry  \\\n",
       "0                               0                          false   \n",
       "\n",
       "   roadCategory                                    roadCoordinates  noOfLanes  \\\n",
       "0             2   11.11747 49.43763|11.11753 49.43776|11.11761 ...          2   \n",
       "\n",
       "   laneLineCoordinates_count  \n",
       "0                          3  "
      ]
     },
     "execution_count": 4,
     "metadata": {},
     "output_type": "execute_result"
    }
   ],
   "source": [
    "new_data=pd.merge(data,labels,on='roadId',how='left')\n",
    "new_data.columns=[i.strip(' ')for i in new_data.columns]\n",
    "# new_data['roadCoordinates_count']=new_data['roadCoordinates'].apply(lambda x: len(x.split()))\n",
    "new_data['laneLineCoordinates_count']=new_data['laneLineCoordinates'].apply(lambda x: len(x.split()))\n",
    "new_data=new_data.fillna(0)\n",
    "new_data.head(1)"
   ]
  },
  {
   "cell_type": "code",
   "execution_count": 5,
   "metadata": {
    "collapsed": true
   },
   "outputs": [],
   "source": [
    "def num_con(x):\n",
    "    try:\n",
    "        return float(x)\n",
    "    except:\n",
    "        return 0\n",
    "    \n",
    "def geom(x):\n",
    "    if x=='false':\n",
    "        return 0\n",
    "    else:\n",
    "        return 1"
   ]
  },
  {
   "cell_type": "code",
   "execution_count": 6,
   "metadata": {
    "collapsed": true
   },
   "outputs": [],
   "source": [
    "new_data['distFromLaneLineOnLeft']=new_data['distFromLaneLineOnLeft'].apply(lambda x: num_con(x))\n",
    "new_data['distFromLaneLineOnRight']=new_data['distFromLaneLineOnRight'].apply(lambda x: num_con(x))\n",
    "new_data['isIntersectingWithRoadGeometry']=new_data['isIntersectingWithRoadGeometry'].apply(lambda x: num_con(x))"
   ]
  },
  {
   "cell_type": "code",
   "execution_count": 7,
   "metadata": {},
   "outputs": [
    {
     "data": {
      "text/plain": [
       "Index(['roadId', 'totalLaneLines', 'laneLineId', 'laneLineCoordinates',\n",
       "       'totalLinesOnLeft', 'totalLaneLinesOnRight', 'distFromLaneLineOnLeft',\n",
       "       'distFromLaneLineOnRight', 'laneLineLength', 'roadLength',\n",
       "       'noOfIntersectingLaneLinesLeft', 'noOfIntersectingLaneLinesRight',\n",
       "       'isIntersectingWithRoadGeometry', 'roadCategory', 'roadCoordinates',\n",
       "       'noOfLanes', 'laneLineCoordinates_count'],\n",
       "      dtype='object')"
      ]
     },
     "execution_count": 7,
     "metadata": {},
     "output_type": "execute_result"
    }
   ],
   "source": [
    "new_data.columns"
   ]
  },
  {
   "cell_type": "code",
   "execution_count": 8,
   "metadata": {
    "collapsed": true,
    "scrolled": true
   },
   "outputs": [],
   "source": [
    "train_pro_data=new_data.groupby(by='roadId').agg({'laneLineId':{'laneLineId':'nunique'},\n",
    "        'totalLaneLines':{'totalLaneLines_sum':'sum','totalLaneLines_mean':'mean','totalLaneLines_min':'min','totalLaneLines_max':'max'},\\\n",
    "        'distFromLaneLineOnRight':{'distFromLaneLineOnRight_mean':'mean','distFromLaneLineOnRight_min':'min',\\\n",
    "        'distFromLaneLineOnRight_sum':'sum',  'distFromLaneLineOnRight_max':'max'},\\\n",
    "        'distFromLaneLineOnLeft':{'distFromLaneLineOnLeft_mean':'mean','distFromLaneLineOnLeft_min':'min',\\\n",
    "        'distFromLaneLineOnLeft_sum':'sum',                   'distFromLaneLineOnLeft_max':'max'},\\\n",
    "        'laneLineLength':{'laneLineLength_mean':'mean','laneLineLength_min':'min','laneLineLength_max':'max','laneLineLength_sum':'sum',},\\\n",
    "        'roadLength':{'roadLength_mean':'mean','roadLength_min':'min','roadLength_max':'max'},\\\n",
    "        'noOfIntersectingLaneLinesLeft':{'noOfIntersectingLaneLinesLeft_sum':'sum',\\\n",
    "        'noOfIntersectingLaneLinesLeft_min':'min','noOfIntersectingLaneLinesLeft_max':'max',\\\n",
    "        'noOfIntersectingLaneLinesLeft_mean':'mean'},\\\n",
    "        'noOfIntersectingLaneLinesRight':{'noOfIntersectingLaneLinesRight_sum':'sum',\\\n",
    "                                          'noOfIntersectingLaneLinesRight_min':'min',\\\n",
    "                                          'noOfIntersectingLaneLinesRight_max':'max'},\\\n",
    "        'roadCategory':{'roadCategory':'mean'},'isIntersectingWithRoadGeometry':{'isIntersectingWithRoadGeometry':'sum'},\\\n",
    "        'laneLineCoordinates_count':{'laneLineCoordinates_count':'mean','laneLineCoordinates_min':'min','laneLineCoordinates_max':'max',\\\n",
    "         'laneLineCoordinates_sum':'sum'},'noOfLanes':{'noOfLanes':'mean'}}).reset_index()\n",
    "\n",
    "train_pro_data.columns=train_pro_data.columns.droplevel(0)\n",
    "train_pro_data.rename(columns={'':'roadId'},inplace=True)"
   ]
  },
  {
   "cell_type": "code",
   "execution_count": 9,
   "metadata": {},
   "outputs": [
    {
     "data": {
      "text/html": [
       "<div>\n",
       "<style>\n",
       "    .dataframe thead tr:only-child th {\n",
       "        text-align: right;\n",
       "    }\n",
       "\n",
       "    .dataframe thead th {\n",
       "        text-align: left;\n",
       "    }\n",
       "\n",
       "    .dataframe tbody tr th {\n",
       "        vertical-align: top;\n",
       "    }\n",
       "</style>\n",
       "<table border=\"1\" class=\"dataframe\">\n",
       "  <thead>\n",
       "    <tr style=\"text-align: right;\">\n",
       "      <th></th>\n",
       "      <th>roadId</th>\n",
       "      <th>laneLineId</th>\n",
       "      <th>totalLaneLines_sum</th>\n",
       "      <th>totalLaneLines_mean</th>\n",
       "      <th>totalLaneLines_min</th>\n",
       "      <th>totalLaneLines_max</th>\n",
       "      <th>distFromLaneLineOnRight_mean</th>\n",
       "      <th>distFromLaneLineOnRight_min</th>\n",
       "      <th>distFromLaneLineOnRight_sum</th>\n",
       "      <th>distFromLaneLineOnRight_max</th>\n",
       "      <th>...</th>\n",
       "      <th>noOfIntersectingLaneLinesRight_sum</th>\n",
       "      <th>noOfIntersectingLaneLinesRight_min</th>\n",
       "      <th>noOfIntersectingLaneLinesRight_max</th>\n",
       "      <th>roadCategory</th>\n",
       "      <th>isIntersectingWithRoadGeometry</th>\n",
       "      <th>laneLineCoordinates_count</th>\n",
       "      <th>laneLineCoordinates_min</th>\n",
       "      <th>laneLineCoordinates_max</th>\n",
       "      <th>laneLineCoordinates_sum</th>\n",
       "      <th>noOfLanes</th>\n",
       "    </tr>\n",
       "  </thead>\n",
       "  <tbody>\n",
       "    <tr>\n",
       "      <th>0</th>\n",
       "      <td>1003085808</td>\n",
       "      <td>5</td>\n",
       "      <td>25</td>\n",
       "      <td>5.0</td>\n",
       "      <td>5</td>\n",
       "      <td>5</td>\n",
       "      <td>2.118718</td>\n",
       "      <td>0.0</td>\n",
       "      <td>10.593588</td>\n",
       "      <td>3.653125</td>\n",
       "      <td>...</td>\n",
       "      <td>0</td>\n",
       "      <td>0</td>\n",
       "      <td>0</td>\n",
       "      <td>2</td>\n",
       "      <td>0</td>\n",
       "      <td>8.600000</td>\n",
       "      <td>4</td>\n",
       "      <td>14</td>\n",
       "      <td>43</td>\n",
       "      <td>2</td>\n",
       "    </tr>\n",
       "    <tr>\n",
       "      <th>1</th>\n",
       "      <td>1003388168</td>\n",
       "      <td>3</td>\n",
       "      <td>9</td>\n",
       "      <td>3.0</td>\n",
       "      <td>3</td>\n",
       "      <td>3</td>\n",
       "      <td>2.913640</td>\n",
       "      <td>0.0</td>\n",
       "      <td>8.740921</td>\n",
       "      <td>4.690038</td>\n",
       "      <td>...</td>\n",
       "      <td>0</td>\n",
       "      <td>0</td>\n",
       "      <td>0</td>\n",
       "      <td>2</td>\n",
       "      <td>0</td>\n",
       "      <td>6.333333</td>\n",
       "      <td>5</td>\n",
       "      <td>9</td>\n",
       "      <td>19</td>\n",
       "      <td>2</td>\n",
       "    </tr>\n",
       "    <tr>\n",
       "      <th>2</th>\n",
       "      <td>1003388169</td>\n",
       "      <td>4</td>\n",
       "      <td>16</td>\n",
       "      <td>4.0</td>\n",
       "      <td>4</td>\n",
       "      <td>4</td>\n",
       "      <td>3.167543</td>\n",
       "      <td>0.0</td>\n",
       "      <td>12.670172</td>\n",
       "      <td>4.901373</td>\n",
       "      <td>...</td>\n",
       "      <td>0</td>\n",
       "      <td>0</td>\n",
       "      <td>0</td>\n",
       "      <td>2</td>\n",
       "      <td>0</td>\n",
       "      <td>4.750000</td>\n",
       "      <td>3</td>\n",
       "      <td>7</td>\n",
       "      <td>19</td>\n",
       "      <td>2</td>\n",
       "    </tr>\n",
       "    <tr>\n",
       "      <th>3</th>\n",
       "      <td>1009949115</td>\n",
       "      <td>4</td>\n",
       "      <td>16</td>\n",
       "      <td>4.0</td>\n",
       "      <td>4</td>\n",
       "      <td>4</td>\n",
       "      <td>2.858797</td>\n",
       "      <td>0.0</td>\n",
       "      <td>11.435189</td>\n",
       "      <td>3.888012</td>\n",
       "      <td>...</td>\n",
       "      <td>0</td>\n",
       "      <td>0</td>\n",
       "      <td>0</td>\n",
       "      <td>1</td>\n",
       "      <td>0</td>\n",
       "      <td>13.500000</td>\n",
       "      <td>10</td>\n",
       "      <td>16</td>\n",
       "      <td>54</td>\n",
       "      <td>3</td>\n",
       "    </tr>\n",
       "    <tr>\n",
       "      <th>4</th>\n",
       "      <td>1009975629</td>\n",
       "      <td>4</td>\n",
       "      <td>16</td>\n",
       "      <td>4.0</td>\n",
       "      <td>4</td>\n",
       "      <td>4</td>\n",
       "      <td>2.939509</td>\n",
       "      <td>0.0</td>\n",
       "      <td>11.758036</td>\n",
       "      <td>3.952289</td>\n",
       "      <td>...</td>\n",
       "      <td>0</td>\n",
       "      <td>0</td>\n",
       "      <td>0</td>\n",
       "      <td>1</td>\n",
       "      <td>0</td>\n",
       "      <td>5.250000</td>\n",
       "      <td>4</td>\n",
       "      <td>6</td>\n",
       "      <td>21</td>\n",
       "      <td>3</td>\n",
       "    </tr>\n",
       "  </tbody>\n",
       "</table>\n",
       "<p>5 rows × 35 columns</p>\n",
       "</div>"
      ],
      "text/plain": [
       "       roadId  laneLineId  totalLaneLines_sum  totalLaneLines_mean  \\\n",
       "0  1003085808           5                  25                  5.0   \n",
       "1  1003388168           3                   9                  3.0   \n",
       "2  1003388169           4                  16                  4.0   \n",
       "3  1009949115           4                  16                  4.0   \n",
       "4  1009975629           4                  16                  4.0   \n",
       "\n",
       "   totalLaneLines_min  totalLaneLines_max  distFromLaneLineOnRight_mean  \\\n",
       "0                   5                   5                      2.118718   \n",
       "1                   3                   3                      2.913640   \n",
       "2                   4                   4                      3.167543   \n",
       "3                   4                   4                      2.858797   \n",
       "4                   4                   4                      2.939509   \n",
       "\n",
       "   distFromLaneLineOnRight_min  distFromLaneLineOnRight_sum  \\\n",
       "0                          0.0                    10.593588   \n",
       "1                          0.0                     8.740921   \n",
       "2                          0.0                    12.670172   \n",
       "3                          0.0                    11.435189   \n",
       "4                          0.0                    11.758036   \n",
       "\n",
       "   distFromLaneLineOnRight_max    ...      noOfIntersectingLaneLinesRight_sum  \\\n",
       "0                     3.653125    ...                                       0   \n",
       "1                     4.690038    ...                                       0   \n",
       "2                     4.901373    ...                                       0   \n",
       "3                     3.888012    ...                                       0   \n",
       "4                     3.952289    ...                                       0   \n",
       "\n",
       "   noOfIntersectingLaneLinesRight_min  noOfIntersectingLaneLinesRight_max  \\\n",
       "0                                   0                                   0   \n",
       "1                                   0                                   0   \n",
       "2                                   0                                   0   \n",
       "3                                   0                                   0   \n",
       "4                                   0                                   0   \n",
       "\n",
       "   roadCategory  isIntersectingWithRoadGeometry  laneLineCoordinates_count  \\\n",
       "0             2                               0                   8.600000   \n",
       "1             2                               0                   6.333333   \n",
       "2             2                               0                   4.750000   \n",
       "3             1                               0                  13.500000   \n",
       "4             1                               0                   5.250000   \n",
       "\n",
       "   laneLineCoordinates_min  laneLineCoordinates_max  laneLineCoordinates_sum  \\\n",
       "0                        4                       14                       43   \n",
       "1                        5                        9                       19   \n",
       "2                        3                        7                       19   \n",
       "3                       10                       16                       54   \n",
       "4                        4                        6                       21   \n",
       "\n",
       "   noOfLanes  \n",
       "0          2  \n",
       "1          2  \n",
       "2          2  \n",
       "3          3  \n",
       "4          3  \n",
       "\n",
       "[5 rows x 35 columns]"
      ]
     },
     "execution_count": 9,
     "metadata": {},
     "output_type": "execute_result"
    }
   ],
   "source": [
    "train_pro_data.head()"
   ]
  },
  {
   "cell_type": "code",
   "execution_count": 10,
   "metadata": {},
   "outputs": [
    {
     "data": {
      "text/plain": [
       "Index(['roadId', 'laneLineId', 'totalLaneLines_sum', 'totalLaneLines_mean',\n",
       "       'totalLaneLines_min', 'totalLaneLines_max',\n",
       "       'distFromLaneLineOnRight_mean', 'distFromLaneLineOnRight_min',\n",
       "       'distFromLaneLineOnRight_sum', 'distFromLaneLineOnRight_max',\n",
       "       'distFromLaneLineOnLeft_mean', 'distFromLaneLineOnLeft_min',\n",
       "       'distFromLaneLineOnLeft_sum', 'distFromLaneLineOnLeft_max',\n",
       "       'laneLineLength_mean', 'laneLineLength_min', 'laneLineLength_max',\n",
       "       'laneLineLength_sum', 'roadLength_mean', 'roadLength_min',\n",
       "       'roadLength_max', 'noOfIntersectingLaneLinesLeft_sum',\n",
       "       'noOfIntersectingLaneLinesLeft_min',\n",
       "       'noOfIntersectingLaneLinesLeft_max',\n",
       "       'noOfIntersectingLaneLinesLeft_mean',\n",
       "       'noOfIntersectingLaneLinesRight_sum',\n",
       "       'noOfIntersectingLaneLinesRight_min',\n",
       "       'noOfIntersectingLaneLinesRight_max', 'roadCategory',\n",
       "       'isIntersectingWithRoadGeometry', 'laneLineCoordinates_count',\n",
       "       'laneLineCoordinates_min', 'laneLineCoordinates_max',\n",
       "       'laneLineCoordinates_sum', 'noOfLanes'],\n",
       "      dtype='object')"
      ]
     },
     "execution_count": 10,
     "metadata": {},
     "output_type": "execute_result"
    }
   ],
   "source": [
    "train_pro_data.columns"
   ]
  },
  {
   "cell_type": "code",
   "execution_count": 11,
   "metadata": {
    "collapsed": true
   },
   "outputs": [],
   "source": [
    "train_pro_data['areaFromLaneLine_mean']=train_pro_data['distFromLaneLineOnRight_mean']*train_pro_data['distFromLaneLineOnLeft_mean']\n",
    "train_pro_data['areaFromLaneLine_min']=train_pro_data['distFromLaneLineOnRight_min']*train_pro_data['distFromLaneLineOnLeft_min']\n",
    "train_pro_data['areaFromLaneLine_sum']=train_pro_data['distFromLaneLineOnRight_sum']*train_pro_data['distFromLaneLineOnLeft_sum']\n",
    "train_pro_data['areaFromLaneLine_max']=train_pro_data['distFromLaneLineOnRight_max']*train_pro_data['distFromLaneLineOnLeft_max']"
   ]
  },
  {
   "cell_type": "code",
   "execution_count": 12,
   "metadata": {
    "collapsed": true
   },
   "outputs": [],
   "source": [
    "train_pro_data['ratio_Intersect_sum']=train_pro_data['noOfIntersectingLaneLinesLeft_sum']/train_pro_data['noOfIntersectingLaneLinesRight_sum']\n",
    "train_pro_data['ratio_Intersect_min']=train_pro_data['noOfIntersectingLaneLinesLeft_min']/train_pro_data['noOfIntersectingLaneLinesRight_min']\n",
    "train_pro_data['ratio_Intersect_max']=train_pro_data['noOfIntersectingLaneLinesLeft_max']/train_pro_data['noOfIntersectingLaneLinesRight_max']"
   ]
  },
  {
   "cell_type": "code",
   "execution_count": 13,
   "metadata": {
    "collapsed": true
   },
   "outputs": [],
   "source": [
    "train_pro_data['noOfLanes']=train_pro_data['noOfLanes'].apply(lambda x:str(x))"
   ]
  },
  {
   "cell_type": "code",
   "execution_count": 14,
   "metadata": {
    "collapsed": true
   },
   "outputs": [],
   "source": [
    "lbl=preprocessing.LabelEncoder()\n",
    "train_pro_data['noOfLanes']=lbl.fit_transform(train_pro_data['noOfLanes'])"
   ]
  },
  {
   "cell_type": "code",
   "execution_count": 15,
   "metadata": {
    "collapsed": true,
    "scrolled": true
   },
   "outputs": [],
   "source": [
    "# train_pro_data=pd.concat([train_pro_data,pd.get_dummies(train_pro_data['roadCategory'],prefix='rC',prefix_sep='_')[['rC_1','rC_2']]],axis=1)"
   ]
  },
  {
   "cell_type": "code",
   "execution_count": 16,
   "metadata": {
    "collapsed": true
   },
   "outputs": [],
   "source": [
    "# del train_pro_data['roadCategory']\n",
    "# train_pro_data.shape"
   ]
  },
  {
   "cell_type": "code",
   "execution_count": 17,
   "metadata": {},
   "outputs": [
    {
     "data": {
      "text/plain": [
       "((2493, 14), 400)"
      ]
     },
     "execution_count": 17,
     "metadata": {},
     "output_type": "execute_result"
    }
   ],
   "source": [
    "# new_test_data=pd.merge(test_data,labels,on='roadId',how='left')\n",
    "test_data.columns=[i.strip(' ')for i in test_data.columns]\n",
    "test_data.shape,len(np.unique(test_data['roadId']))"
   ]
  },
  {
   "cell_type": "code",
   "execution_count": 18,
   "metadata": {},
   "outputs": [
    {
     "data": {
      "text/html": [
       "<div>\n",
       "<style>\n",
       "    .dataframe thead tr:only-child th {\n",
       "        text-align: right;\n",
       "    }\n",
       "\n",
       "    .dataframe thead th {\n",
       "        text-align: left;\n",
       "    }\n",
       "\n",
       "    .dataframe tbody tr th {\n",
       "        vertical-align: top;\n",
       "    }\n",
       "</style>\n",
       "<table border=\"1\" class=\"dataframe\">\n",
       "  <thead>\n",
       "    <tr style=\"text-align: right;\">\n",
       "      <th></th>\n",
       "      <th>roadId</th>\n",
       "      <th>totalLaneLines</th>\n",
       "      <th>laneLineId</th>\n",
       "      <th>laneLineCoordinates</th>\n",
       "      <th>totalLinesOnLeft</th>\n",
       "      <th>totalLaneLinesOnRight</th>\n",
       "      <th>distFromLaneLineOnLeft</th>\n",
       "      <th>distFromLaneLineOnRight</th>\n",
       "      <th>laneLineLength</th>\n",
       "      <th>roadLength</th>\n",
       "      <th>noOfIntersectingLaneLinesLeft</th>\n",
       "      <th>noOfIntersectingLaneLinesRight</th>\n",
       "      <th>isIntersectingWithRoadGeometry</th>\n",
       "      <th>roadCategory</th>\n",
       "    </tr>\n",
       "  </thead>\n",
       "  <tbody>\n",
       "    <tr>\n",
       "      <th>0</th>\n",
       "      <td>291531296</td>\n",
       "      <td>5</td>\n",
       "      <td>X291531296</td>\n",
       "      <td>11.329899604343693 43.72956824243773|11.33004...</td>\n",
       "      <td>2</td>\n",
       "      <td>2</td>\n",
       "      <td>5.655398294</td>\n",
       "      <td>3.49899823</td>\n",
       "      <td>12.054597</td>\n",
       "      <td>12.056004</td>\n",
       "      <td>0</td>\n",
       "      <td>0</td>\n",
       "      <td>false</td>\n",
       "      <td>1</td>\n",
       "    </tr>\n",
       "    <tr>\n",
       "      <th>1</th>\n",
       "      <td>291531296</td>\n",
       "      <td>5</td>\n",
       "      <td>1291531296</td>\n",
       "      <td>11.329900151795446 43.729503478051974|11.3300...</td>\n",
       "      <td>4</td>\n",
       "      <td>0</td>\n",
       "      <td>3.685959755</td>\n",
       "      <td></td>\n",
       "      <td>12.060141</td>\n",
       "      <td>12.056004</td>\n",
       "      <td>0</td>\n",
       "      <td>0</td>\n",
       "      <td>false</td>\n",
       "      <td>1</td>\n",
       "    </tr>\n",
       "    <tr>\n",
       "      <th>2</th>\n",
       "      <td>291531296</td>\n",
       "      <td>5</td>\n",
       "      <td>2291531296</td>\n",
       "      <td>11.329899913660833 43.72953696742431|11.33004...</td>\n",
       "      <td>3</td>\n",
       "      <td>1</td>\n",
       "      <td>3.49899823</td>\n",
       "      <td>3.685959755</td>\n",
       "      <td>12.052468</td>\n",
       "      <td>12.056004</td>\n",
       "      <td>0</td>\n",
       "      <td>0</td>\n",
       "      <td>false</td>\n",
       "      <td>1</td>\n",
       "    </tr>\n",
       "    <tr>\n",
       "      <th>3</th>\n",
       "      <td>291531296</td>\n",
       "      <td>5</td>\n",
       "      <td>3291531296</td>\n",
       "      <td>11.329899175813209 43.72961906004278|11.33004...</td>\n",
       "      <td>1</td>\n",
       "      <td>3</td>\n",
       "      <td>3.481580911</td>\n",
       "      <td>5.655398294</td>\n",
       "      <td>12.046642</td>\n",
       "      <td>12.056004</td>\n",
       "      <td>0</td>\n",
       "      <td>0</td>\n",
       "      <td>false</td>\n",
       "      <td>1</td>\n",
       "    </tr>\n",
       "    <tr>\n",
       "      <th>4</th>\n",
       "      <td>291531296</td>\n",
       "      <td>5</td>\n",
       "      <td>4291531296</td>\n",
       "      <td>11.329899073264464 43.729650480155186|11.3300...</td>\n",
       "      <td>0</td>\n",
       "      <td>4</td>\n",
       "      <td></td>\n",
       "      <td>3.481580911</td>\n",
       "      <td>12.054345</td>\n",
       "      <td>12.056004</td>\n",
       "      <td>0</td>\n",
       "      <td>0</td>\n",
       "      <td>false</td>\n",
       "      <td>1</td>\n",
       "    </tr>\n",
       "  </tbody>\n",
       "</table>\n",
       "</div>"
      ],
      "text/plain": [
       "      roadId  totalLaneLines  laneLineId  \\\n",
       "0  291531296               5  X291531296   \n",
       "1  291531296               5  1291531296   \n",
       "2  291531296               5  2291531296   \n",
       "3  291531296               5  3291531296   \n",
       "4  291531296               5  4291531296   \n",
       "\n",
       "                                 laneLineCoordinates  totalLinesOnLeft  \\\n",
       "0   11.329899604343693 43.72956824243773|11.33004...                 2   \n",
       "1   11.329900151795446 43.729503478051974|11.3300...                 4   \n",
       "2   11.329899913660833 43.72953696742431|11.33004...                 3   \n",
       "3   11.329899175813209 43.72961906004278|11.33004...                 1   \n",
       "4   11.329899073264464 43.729650480155186|11.3300...                 0   \n",
       "\n",
       "   totalLaneLinesOnRight distFromLaneLineOnLeft distFromLaneLineOnRight  \\\n",
       "0                      2            5.655398294              3.49899823   \n",
       "1                      0            3.685959755                           \n",
       "2                      1             3.49899823             3.685959755   \n",
       "3                      3            3.481580911             5.655398294   \n",
       "4                      4                                    3.481580911   \n",
       "\n",
       "   laneLineLength  roadLength  noOfIntersectingLaneLinesLeft  \\\n",
       "0       12.054597   12.056004                              0   \n",
       "1       12.060141   12.056004                              0   \n",
       "2       12.052468   12.056004                              0   \n",
       "3       12.046642   12.056004                              0   \n",
       "4       12.054345   12.056004                              0   \n",
       "\n",
       "   noOfIntersectingLaneLinesRight isIntersectingWithRoadGeometry  roadCategory  \n",
       "0                               0                          false             1  \n",
       "1                               0                          false             1  \n",
       "2                               0                          false             1  \n",
       "3                               0                          false             1  \n",
       "4                               0                          false             1  "
      ]
     },
     "execution_count": 18,
     "metadata": {},
     "output_type": "execute_result"
    }
   ],
   "source": [
    "test_data.head()"
   ]
  },
  {
   "cell_type": "code",
   "execution_count": 19,
   "metadata": {},
   "outputs": [
    {
     "name": "stdout",
     "output_type": "stream",
     "text": [
      "(2493, 15)\n"
     ]
    },
    {
     "data": {
      "text/html": [
       "<div>\n",
       "<style>\n",
       "    .dataframe thead tr:only-child th {\n",
       "        text-align: right;\n",
       "    }\n",
       "\n",
       "    .dataframe thead th {\n",
       "        text-align: left;\n",
       "    }\n",
       "\n",
       "    .dataframe tbody tr th {\n",
       "        vertical-align: top;\n",
       "    }\n",
       "</style>\n",
       "<table border=\"1\" class=\"dataframe\">\n",
       "  <thead>\n",
       "    <tr style=\"text-align: right;\">\n",
       "      <th></th>\n",
       "      <th>roadId</th>\n",
       "      <th>totalLaneLines</th>\n",
       "      <th>laneLineId</th>\n",
       "      <th>laneLineCoordinates</th>\n",
       "      <th>totalLinesOnLeft</th>\n",
       "      <th>totalLaneLinesOnRight</th>\n",
       "      <th>distFromLaneLineOnLeft</th>\n",
       "      <th>distFromLaneLineOnRight</th>\n",
       "      <th>laneLineLength</th>\n",
       "      <th>roadLength</th>\n",
       "      <th>noOfIntersectingLaneLinesLeft</th>\n",
       "      <th>noOfIntersectingLaneLinesRight</th>\n",
       "      <th>isIntersectingWithRoadGeometry</th>\n",
       "      <th>roadCategory</th>\n",
       "      <th>laneLineCoordinates_count</th>\n",
       "    </tr>\n",
       "  </thead>\n",
       "  <tbody>\n",
       "    <tr>\n",
       "      <th>0</th>\n",
       "      <td>291531296</td>\n",
       "      <td>5</td>\n",
       "      <td>X291531296</td>\n",
       "      <td>11.329899604343693 43.72956824243773|11.33004...</td>\n",
       "      <td>2</td>\n",
       "      <td>2</td>\n",
       "      <td>5.655398294</td>\n",
       "      <td>3.49899823</td>\n",
       "      <td>12.054597</td>\n",
       "      <td>12.056004</td>\n",
       "      <td>0</td>\n",
       "      <td>0</td>\n",
       "      <td>false</td>\n",
       "      <td>1</td>\n",
       "      <td>3</td>\n",
       "    </tr>\n",
       "    <tr>\n",
       "      <th>1</th>\n",
       "      <td>291531296</td>\n",
       "      <td>5</td>\n",
       "      <td>1291531296</td>\n",
       "      <td>11.329900151795446 43.729503478051974|11.3300...</td>\n",
       "      <td>4</td>\n",
       "      <td>0</td>\n",
       "      <td>3.685959755</td>\n",
       "      <td></td>\n",
       "      <td>12.060141</td>\n",
       "      <td>12.056004</td>\n",
       "      <td>0</td>\n",
       "      <td>0</td>\n",
       "      <td>false</td>\n",
       "      <td>1</td>\n",
       "      <td>3</td>\n",
       "    </tr>\n",
       "  </tbody>\n",
       "</table>\n",
       "</div>"
      ],
      "text/plain": [
       "      roadId  totalLaneLines  laneLineId  \\\n",
       "0  291531296               5  X291531296   \n",
       "1  291531296               5  1291531296   \n",
       "\n",
       "                                 laneLineCoordinates  totalLinesOnLeft  \\\n",
       "0   11.329899604343693 43.72956824243773|11.33004...                 2   \n",
       "1   11.329900151795446 43.729503478051974|11.3300...                 4   \n",
       "\n",
       "   totalLaneLinesOnRight distFromLaneLineOnLeft distFromLaneLineOnRight  \\\n",
       "0                      2            5.655398294              3.49899823   \n",
       "1                      0            3.685959755                           \n",
       "\n",
       "   laneLineLength  roadLength  noOfIntersectingLaneLinesLeft  \\\n",
       "0       12.054597   12.056004                              0   \n",
       "1       12.060141   12.056004                              0   \n",
       "\n",
       "   noOfIntersectingLaneLinesRight isIntersectingWithRoadGeometry  \\\n",
       "0                               0                          false   \n",
       "1                               0                          false   \n",
       "\n",
       "   roadCategory  laneLineCoordinates_count  \n",
       "0             1                          3  \n",
       "1             1                          3  "
      ]
     },
     "execution_count": 19,
     "metadata": {},
     "output_type": "execute_result"
    }
   ],
   "source": [
    "# new_test_data['roadCoordinates_count']=new_test_data['roadCoordinates'].apply(lambda x: len(x.split()))\n",
    "test_data['laneLineCoordinates_count']=test_data['laneLineCoordinates'].apply(lambda x: len(x.split()))\n",
    "test_data=test_data.fillna(0)\n",
    "print (test_data.shape)\n",
    "test_data.head(2)"
   ]
  },
  {
   "cell_type": "code",
   "execution_count": 20,
   "metadata": {
    "collapsed": true
   },
   "outputs": [],
   "source": [
    "test_data['distFromLaneLineOnLeft']=test_data['distFromLaneLineOnLeft'].apply(lambda x: num_con(x))\n",
    "test_data['distFromLaneLineOnRight']=test_data['distFromLaneLineOnRight'].apply(lambda x: num_con(x))\n",
    "test_data['isIntersectingWithRoadGeometry']=test_data['isIntersectingWithRoadGeometry'].apply(lambda x: num_con(x))"
   ]
  },
  {
   "cell_type": "code",
   "execution_count": 21,
   "metadata": {
    "collapsed": true
   },
   "outputs": [],
   "source": [
    "test_pro_data=test_data.groupby(by='roadId').agg({'laneLineId':{'laneLineId':'nunique'},\n",
    "        'totalLaneLines':{'totalLaneLines_sum':'sum','totalLaneLines_mean':'mean','totalLaneLines_min':'min','totalLaneLines_max':'max'},\\\n",
    "        'distFromLaneLineOnRight':{'distFromLaneLineOnRight_mean':'mean','distFromLaneLineOnRight_min':'min',\\\n",
    "        'distFromLaneLineOnRight_sum':'sum',  'distFromLaneLineOnRight_max':'max'},\\\n",
    "        'distFromLaneLineOnLeft':{'distFromLaneLineOnLeft_mean':'mean','distFromLaneLineOnLeft_min':'min',\\\n",
    "        'distFromLaneLineOnLeft_sum':'sum',                   'distFromLaneLineOnLeft_max':'max'},\\\n",
    "        'laneLineLength':{'laneLineLength_mean':'mean','laneLineLength_min':'min','laneLineLength_max':'max','laneLineLength_sum':'sum',},\\\n",
    "        'roadLength':{'roadLength_mean':'mean','roadLength_min':'min','roadLength_max':'max'},\\\n",
    "        'noOfIntersectingLaneLinesLeft':{'noOfIntersectingLaneLinesLeft_sum':'sum',\\\n",
    "        'noOfIntersectingLaneLinesLeft_min':'min','noOfIntersectingLaneLinesLeft_max':'max',\\\n",
    "        'noOfIntersectingLaneLinesLeft_mean':'mean'},\\\n",
    "        'noOfIntersectingLaneLinesRight':{'noOfIntersectingLaneLinesRight_sum':'sum',\\\n",
    "                                          'noOfIntersectingLaneLinesRight_min':'min',\\\n",
    "                                          'noOfIntersectingLaneLinesRight_max':'max'},\\\n",
    "        'roadCategory':{'roadCategory':'mean'},'isIntersectingWithRoadGeometry':{'isIntersectingWithRoadGeometry':'sum'},\\\n",
    "        'laneLineCoordinates_count':{'laneLineCoordinates_count':'mean','laneLineCoordinates_min':'min','laneLineCoordinates_max':'max',\\\n",
    "         'laneLineCoordinates_sum':'sum'}}).reset_index()\n",
    "\n",
    "test_pro_data.columns=test_pro_data.columns.droplevel(0)\n",
    "test_pro_data.rename(columns={'':'roadId'},inplace=True)"
   ]
  },
  {
   "cell_type": "code",
   "execution_count": 22,
   "metadata": {
    "collapsed": true
   },
   "outputs": [],
   "source": [
    "test_pro_data['areaFromLaneLine_mean']=test_pro_data['distFromLaneLineOnRight_mean']*test_pro_data['distFromLaneLineOnLeft_mean']\n",
    "test_pro_data['areaFromLaneLine_min']=test_pro_data['distFromLaneLineOnRight_min']*test_pro_data['distFromLaneLineOnLeft_min']\n",
    "test_pro_data['areaFromLaneLine_sum']=test_pro_data['distFromLaneLineOnRight_sum']*test_pro_data['distFromLaneLineOnLeft_sum']\n",
    "test_pro_data['areaFromLaneLine_max']=test_pro_data['distFromLaneLineOnRight_max']*test_pro_data['distFromLaneLineOnLeft_max']"
   ]
  },
  {
   "cell_type": "code",
   "execution_count": 23,
   "metadata": {
    "collapsed": true
   },
   "outputs": [],
   "source": [
    "test_pro_data['ratio_Intersect_sum']=test_pro_data['noOfIntersectingLaneLinesLeft_sum']/test_pro_data['noOfIntersectingLaneLinesRight_sum']\n",
    "test_pro_data['ratio_Intersect_min']=test_pro_data['noOfIntersectingLaneLinesLeft_min']/test_pro_data['noOfIntersectingLaneLinesRight_min']\n",
    "test_pro_data['ratio_Intersect_max']=test_pro_data['noOfIntersectingLaneLinesLeft_max']/test_pro_data['noOfIntersectingLaneLinesRight_max']"
   ]
  },
  {
   "cell_type": "code",
   "execution_count": 24,
   "metadata": {},
   "outputs": [
    {
     "data": {
      "text/plain": [
       "Index(['roadId', 'laneLineId', 'totalLaneLines_sum', 'totalLaneLines_mean',\n",
       "       'totalLaneLines_min', 'totalLaneLines_max',\n",
       "       'distFromLaneLineOnRight_mean', 'distFromLaneLineOnRight_min',\n",
       "       'distFromLaneLineOnRight_sum', 'distFromLaneLineOnRight_max',\n",
       "       'distFromLaneLineOnLeft_mean', 'distFromLaneLineOnLeft_min',\n",
       "       'distFromLaneLineOnLeft_sum', 'distFromLaneLineOnLeft_max',\n",
       "       'laneLineLength_mean', 'laneLineLength_min', 'laneLineLength_max',\n",
       "       'laneLineLength_sum', 'roadLength_mean', 'roadLength_min',\n",
       "       'roadLength_max', 'noOfIntersectingLaneLinesLeft_sum',\n",
       "       'noOfIntersectingLaneLinesLeft_min',\n",
       "       'noOfIntersectingLaneLinesLeft_max',\n",
       "       'noOfIntersectingLaneLinesLeft_mean',\n",
       "       'noOfIntersectingLaneLinesRight_sum',\n",
       "       'noOfIntersectingLaneLinesRight_min',\n",
       "       'noOfIntersectingLaneLinesRight_max', 'roadCategory',\n",
       "       'isIntersectingWithRoadGeometry', 'laneLineCoordinates_count',\n",
       "       'laneLineCoordinates_min', 'laneLineCoordinates_max',\n",
       "       'laneLineCoordinates_sum', 'areaFromLaneLine_mean',\n",
       "       'areaFromLaneLine_min', 'areaFromLaneLine_sum', 'areaFromLaneLine_max',\n",
       "       'ratio_Intersect_sum', 'ratio_Intersect_min', 'ratio_Intersect_max'],\n",
       "      dtype='object')"
      ]
     },
     "execution_count": 24,
     "metadata": {},
     "output_type": "execute_result"
    }
   ],
   "source": [
    "test_pro_data.columns"
   ]
  },
  {
   "cell_type": "code",
   "execution_count": 25,
   "metadata": {},
   "outputs": [
    {
     "data": {
      "text/plain": [
       "40"
      ]
     },
     "execution_count": 25,
     "metadata": {},
     "output_type": "execute_result"
    }
   ],
   "source": [
    "X=test_pro_data.columns.tolist()[1:]\n",
    "Y='noOfLanes'\n",
    "len(X)"
   ]
  },
  {
   "cell_type": "code",
   "execution_count": 26,
   "metadata": {
    "collapsed": true,
    "scrolled": true
   },
   "outputs": [],
   "source": [
    "train_pro_data=train_pro_data.fillna(0)"
   ]
  },
  {
   "cell_type": "code",
   "execution_count": 28,
   "metadata": {},
   "outputs": [
    {
     "data": {
      "text/plain": [
       "((3377, 40), (3377,), (1448, 40), (1448,))"
      ]
     },
     "execution_count": 28,
     "metadata": {},
     "output_type": "execute_result"
    }
   ],
   "source": [
    "train_X,test_X,train_y,test_y=cross_validation.train_test_split(train_pro_data[X],train_pro_data[Y],test_size=.3,random_state =74)\n",
    "train_X.shape,train_y.shape,test_X.shape,test_y.shape"
   ]
  },
  {
   "cell_type": "markdown",
   "metadata": {},
   "source": [
    "### CAT"
   ]
  },
  {
   "cell_type": "code",
   "execution_count": 30,
   "metadata": {},
   "outputs": [
    {
     "name": "stdout",
     "output_type": "stream",
     "text": [
      "Fitting 3 folds for each of 4 candidates, totalling 12 fits\n"
     ]
    },
    {
     "name": "stderr",
     "output_type": "stream",
     "text": [
      "[Parallel(n_jobs=1)]: Done  12 out of  12 | elapsed:  1.0min finished\n"
     ]
    },
    {
     "data": {
      "text/plain": [
       "GridSearchCV(cv=None, error_score='raise',\n",
       "       estimator=<catboost.core.CatBoostClassifier object at 0x00000280138360F0>,\n",
       "       fit_params={}, iid=True, n_jobs=1,\n",
       "       param_grid={'depth': [4], 'rsm': [0.1, 0.3, 0.6, 0.8]},\n",
       "       pre_dispatch='2*n_jobs', refit=True, scoring=None, verbose=1)"
      ]
     },
     "execution_count": 30,
     "metadata": {},
     "output_type": "execute_result"
    }
   ],
   "source": [
    "random_seed=85\n",
    "clf = CatBoostClassifier(learning_rate=0.01, iterations=200, random_seed=random_seed, \\\n",
    "                          loss_function='MultiClass', class_count=6)\n",
    "optimized_CT = grid_search.GridSearchCV(clf,{'depth':[4,],'rsm':[0.1,.3,.6,.8]\n",
    "                    }, verbose=1) \n",
    "\n",
    "optimized_CT.fit(train_pro_data[X],train_pro_data[Y])"
   ]
  },
  {
   "cell_type": "code",
   "execution_count": null,
   "metadata": {},
   "outputs": [],
   "source": [
    "metrics.f1_score(train_pro_data[Y],np.ravel(optimized_CT.predict(train_pro_data[X])),average='weighted')"
   ]
  },
  {
   "cell_type": "code",
   "execution_count": null,
   "metadata": {},
   "outputs": [],
   "source": [
    "\n",
    "# clf.fit(train_pro_data[X], train_pro_data[Y])\n",
    "pred_cat=np.ravel(optimized_CT.predict(test_pro_data[X]))\n",
    "\n",
    "print (np.unique(pred_cat,return_counts=True))\n",
    "\n",
    "pred_cat=lbl.inverse_transform(pred_cat.astype(int))\n",
    "print(np.unique(pred_cat))\n",
    "\n",
    "sub_samp2=pd.DataFrame(test_pro_data['roadId'])\n",
    "sub_samp2['noOfLanes']=pred_cat\n",
    "\n",
    "sub_samp2.to_csv(path+str(random_seed)+'1cat_model_less_feature.csv',index=False)"
   ]
  },
  {
   "cell_type": "code",
   "execution_count": null,
   "metadata": {},
   "outputs": [],
   "source": [
    "t4_params = {\n",
    "    'boosting_type': 'gbdt', 'objective': 'multiclass', 'nthread': -1, 'silent': True,\n",
    "    'num_leaves': 2**4, 'learning_rate': 0.05, 'max_depth': 4,\n",
    "    'max_bin': 255, 'subsample_for_bin': 50000,\n",
    "    'subsample': 0.8, 'subsample_freq': 1, 'colsample_bytree': 0.6, 'reg_alpha': 1, 'reg_lambda': 0,\n",
    "    'min_split_gain': 0.5, 'min_child_weight': 1, 'min_child_samples': 10, 'scale_pos_weight': 1}\n",
    "\n",
    "# they can be used directly to build a LGBMClassifier (which is wrapped in a sklearn fashion)\n",
    "\n",
    "ligh_mdl=lgb.LGBMClassifier(**t4_params)\n",
    "\n",
    "ligh_mdl.fit(train_X, train_y)\n",
    "\n",
    "print(metrics.f1_score(test_y,ligh_mdl.predict(test_X),average='weighted'))\n",
    "# ligh_mdl.fit(train_pro_data[X], train_pro_data[Y])\n",
    "pred_lgb=ligh_mdl.predict(test_pro_data[X])\n",
    "print(np.unique(pred_lgb,return_counts=True))\n",
    "\n",
    "pred_lgb=lbl.inverse_transform(pred_lgb.astype(int))\n",
    "print(np.unique(pred_lgb))\n",
    "\n",
    "sub_samp3=pd.DataFrame(test_pro_data['roadId'])\n",
    "sub_samp3['noOfLanes']=pred_lgb\n",
    "\n",
    "sub_samp3.to_csv(path+'1lgb_model_less_feature.csv',index=False)"
   ]
  },
  {
   "cell_type": "code",
   "execution_count": null,
   "metadata": {
    "collapsed": true
   },
   "outputs": [],
   "source": []
  }
 ],
 "metadata": {
  "kernelspec": {
   "display_name": "Python 3",
   "language": "python",
   "name": "python3"
  },
  "language_info": {
   "codemirror_mode": {
    "name": "ipython",
    "version": 3
   },
   "file_extension": ".py",
   "mimetype": "text/x-python",
   "name": "python",
   "nbconvert_exporter": "python",
   "pygments_lexer": "ipython3",
   "version": "3.6.1"
  }
 },
 "nbformat": 4,
 "nbformat_minor": 2
}
